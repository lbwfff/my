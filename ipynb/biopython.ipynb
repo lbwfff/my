{
 "cells": [
  {
   "cell_type": "code",
   "execution_count": 36,
   "id": "ecef1289",
   "metadata": {},
   "outputs": [],
   "source": [
    "from Bio import AlignIO\n",
    "from Bio.AlignIO import MafIO\n",
    "from Bio.Seq import Seq"
   ]
  },
  {
   "cell_type": "code",
   "execution_count": 15,
   "id": "2495d8d4",
   "metadata": {},
   "outputs": [],
   "source": [
    "alignments=AlignIO.parse(\"chr1.maf\",\"maf\") #UCSC（如果没记错的话）下载的构建好的多序列比对文件"
   ]
  },
  {
   "cell_type": "code",
   "execution_count": 18,
   "id": "0bb16514",
   "metadata": {},
   "outputs": [],
   "source": [
    "idx=MafIO.MafIndex(\"chr1.mafindex\",\"chr1.maf\",\"hg38.chr1\") #构建索引，如果第一次运行时没有索引，会自动创建，如果有则会载入"
   ]
  },
  {
   "cell_type": "code",
   "execution_count": 102,
   "id": "985d9dfc",
   "metadata": {},
   "outputs": [],
   "source": [
    "multiple_alignment = idx.get_spliced(\n",
    "    [211391840,211396766,211398035],\n",
    "    [211391976,211396831,211398137]\n",
    ") #smprot上随便找的一个ORF"
   ]
  },
  {
   "cell_type": "code",
   "execution_count": 103,
   "id": "56321bd5",
   "metadata": {},
   "outputs": [
    {
     "data": {
      "text/plain": [
       "1"
      ]
     },
     "execution_count": 103,
     "metadata": {},
     "output_type": "execute_result"
    }
   ],
   "source": [
    "AlignIO.write(multiple_alignment, \"test.fa\", \"fasta\") #提取出来的多序列比对结果，但是物种排序很奇怪啊"
   ]
  },
  {
   "cell_type": "code",
   "execution_count": 33,
   "id": "b6f5aee4",
   "metadata": {},
   "outputs": [
    {
     "name": "stdout",
     "output_type": "stream",
     "text": [
      "Alignment with 22 rows and 311 columns\n",
      "aagaaaaaaag--aaagcaaaaccaaaaccaacaccGATCCCGA...caa rheMac8.chr1\n",
      "aagaaaaaaag--aaagcaaaaccaaaaCGAGCACCGATCCCAA...caa rhiBie1.NW_016815254v1\n",
      "aagaaaaaaag--aaagcaaAACCTAAATCACCACCAATCCCGA...--- cebCap1.NW_016107353v1\n",
      "aagaaaaaaag--aaagcaaaaccaaaaccaGCACCGATCCCGA...caa macFas5.chr1\n",
      "AAGAAAAGAAG--AAAGCAAAACCAAAACCAGCACCGATCCCGA...taa panTro5.chr1\n",
      "AAGAAAAAAAAGCAAAGCAAAACCCAAGGCACCACTGATCCTAA...--- canFam3.chr7\n",
      "aagaaaaaaag--aaagcaaaaccaaaacCAGCACCGATCCCGA...caa macNem1.NW_012011577v1\n",
      "aagaaaaaaag--aaagcaaaaccaaaaccagcaccgatcccaa...caa gorGor5.CYUI01014942v1\n",
      "aagaaaaaaag--aaagcaaaaccaaaacCAGCACCGATCCCGA...caa cerAty1.NW_012004936v1\n",
      "aagagaaaaaa--aaagagaaaccaaaaacaTCACCGATGCCGA...--- proCoq1.NW_012137080v1\n",
      "--------------------------------------------...caa ponAbe2.chr1\n",
      "aagaaaaaaag--aaagcaaaaccaaaacCAGCACCGATCCCGA...caa chlSab2.chr25\n",
      "CA---AAAGAA--AAAGAGAAACCAAAAACACCACCTATGCCAA...caa otoGar3.GL873697\n",
      "aagaaaaaaag--aaagcaaaaccaaaacCAGCACCGATCCCGA...caa papAnu3.chr1\n",
      "AGAAAAAAATG--AAAGCAAAACCTAAAACACCACCGATCCCCA...--- tarSyr2.KE939288v1\n",
      "aagaaaaaaag--aaaacaaaaccaaaaccagcaccgatcccaa...caa nasLar1.chr1\n",
      "aagaaaaaaag--aaagcaaaaccaaaacCAGCACCGATCCCGA...caa manLeu1.NW_012101576v1\n",
      "aagaaaaaaag--aaagcaaaaccaaaacgaGCACCGATCCCGA...caa rhiRox1.KN296959v1\n",
      "...\n",
      "AAGAAAAGAAG--AAAGCAAAACCAAAACCAGCACCGATCCCGA...taa panPan2.chr1\n"
     ]
    }
   ],
   "source": [
    "print(multiple_alignment) #指定位置的核苷酸比对结果"
   ]
  },
  {
   "cell_type": "code",
   "execution_count": 77,
   "id": "e5838f4b",
   "metadata": {},
   "outputs": [],
   "source": [
    "test=multiple_alignment[1]"
   ]
  },
  {
   "cell_type": "code",
   "execution_count": 58,
   "id": "bcf9f094",
   "metadata": {},
   "outputs": [
    {
     "name": "stdout",
     "output_type": "stream",
     "text": [
      "ID: rhiBie1.NW_016815254v1\n",
      "Name: rhiBie1.NW_016815254v1\n",
      "Number of features: 0\n",
      "Seq('aagaaaaaaag--aaagcaaaaccaaaaCGAGCACCGATCCCAACATAGATCAG...caa')\n"
     ]
    }
   ],
   "source": [
    "print(multiple_alignment[1])"
   ]
  },
  {
   "cell_type": "code",
   "execution_count": 93,
   "id": "89818ae4",
   "metadata": {},
   "outputs": [
    {
     "name": "stdout",
     "output_type": "stream",
     "text": [
      "KKKRKQNQNEHRSQHRSVTSFSSDDRVFPSSSSSSSGSQTDSSTEDATQGKIKKKRREKTNKWREKRKSLVLLPRLECNDAISAHCNLCLLDSSSSATTSQ\n"
     ]
    }
   ],
   "source": [
    "test=multiple_alignment[1].seq.ungap(\"-\").translate()\n",
    "print(test)"
   ]
  },
  {
   "cell_type": "code",
   "execution_count": 95,
   "id": "4954ca76",
   "metadata": {},
   "outputs": [],
   "source": [
    "from Bio.SeqRecord import SeqRecord\n",
    "\n",
    "record = SeqRecord(\n",
    "    Seq(test),\n",
    "    id=multiple_alignment[1].id,\n",
    "    name=multiple_alignment[1].name,\n",
    "    description=\"\",\n",
    ") #纯属闲的蛋疼，写这么一段"
   ]
  },
  {
   "cell_type": "code",
   "execution_count": 96,
   "id": "8f7e30d3",
   "metadata": {},
   "outputs": [
    {
     "data": {
      "text/plain": [
       "1"
      ]
     },
     "execution_count": 96,
     "metadata": {},
     "output_type": "execute_result"
    }
   ],
   "source": [
    "from Bio import SeqIO\n",
    "SeqIO.write(record, \"test.faa\", \"fasta\") #这里把其中一条翻译为的氨基酸序列，并写成了fasta文件，但我不知道要怎么在python上写循环把所有物种的序列做出来"
   ]
  },
  {
   "cell_type": "code",
   "execution_count": 94,
   "id": "d31ef08d",
   "metadata": {},
   "outputs": [
    {
     "name": "stdout",
     "output_type": "stream",
     "text": [
      "rhiBie1.NW_016815254v1\n"
     ]
    }
   ],
   "source": [
    "print(multiple_alignment[1].id) "
   ]
  },
  {
   "cell_type": "code",
   "execution_count": null,
   "id": "b83bde5f",
   "metadata": {},
   "outputs": [],
   "source": [
    "#我的理解是，如果想做氨基酸序列的比对，就是把所有核苷酸的比对提取出来，翻译，然后再比对就是了\n",
    "#如果我没理解错文章的意思的话[1] S. P. Chothani et al., “A high-resolution map of human RNA translation,” Mol Cell, doi: 10.1016/j.molcel.2022.06.023."
   ]
  }
 ],
 "metadata": {
  "kernelspec": {
   "display_name": "Python 3 (ipykernel)",
   "language": "python",
   "name": "python3"
  },
  "language_info": {
   "codemirror_mode": {
    "name": "ipython",
    "version": 3
   },
   "file_extension": ".py",
   "mimetype": "text/x-python",
   "name": "python",
   "nbconvert_exporter": "python",
   "pygments_lexer": "ipython3",
   "version": "3.8.12"
  }
 },
 "nbformat": 4,
 "nbformat_minor": 5
}
