{
 "cells": [
  {
   "cell_type": "code",
   "execution_count": 1,
   "id": "c9a10e34-cde7-44f4-a51d-2212c8b7cc70",
   "metadata": {},
   "outputs": [
    {
     "name": "stderr",
     "output_type": "stream",
     "text": [
      "/home/lb4489/.local/lib/python3.12/site-packages/tqdm/auto.py:21: TqdmWarning: IProgress not found. Please update jupyter and ipywidgets. See https://ipywidgets.readthedocs.io/en/stable/user_install.html\n",
      "  from .autonotebook import tqdm as notebook_tqdm\n"
     ]
    }
   ],
   "source": [
    "from transformers import AutoTokenizer, AutoModelForMaskedLM, TrainingArguments, AutoModelForSequenceClassification\n",
    "import torch\n",
    "\n",
    "from sklearn.metrics import matthews_corrcoef, f1_score\n",
    "from sklearn.model_selection import train_test_split\n",
    "import matplotlib.pyplot as plt\n",
    "import numpy as np"
   ]
  },
  {
   "cell_type": "code",
   "execution_count": 2,
   "id": "434b64c8-a061-40d9-a982-a5040e4a2f8a",
   "metadata": {},
   "outputs": [],
   "source": [
    "model_path = \"/scratch/lb4489/LLM\"\n",
    "\n",
    "# Import the tokenizer and the model\n",
    "tokenizer = AutoTokenizer.from_pretrained(\"InstaDeepAI/nucleotide-transformer-v2-500m-multi-species\", cache_dir=model_path, trust_remote_code=True)\n",
    "model = AutoModelForMaskedLM.from_pretrained(\"InstaDeepAI/nucleotide-transformer-v2-500m-multi-species\", cache_dir=model_path, trust_remote_code=True)"
   ]
  },
  {
   "cell_type": "code",
   "execution_count": 3,
   "id": "1c3690d6-6cf3-4b8a-957e-ba775f3010d0",
   "metadata": {},
   "outputs": [
    {
     "name": "stdin",
     "output_type": "stream",
     "text": [
      "The repository for InstaDeepAI/nucleotide-transformer-v2-500m-multi-species contains custom code which must be executed to correctly load the model. You can inspect the repository content at https://hf.co/InstaDeepAI/nucleotide-transformer-v2-500m-multi-species.\n",
      "You can avoid this prompt in future by passing the argument `trust_remote_code=True`.\n",
      "\n",
      "Do you wish to run the custom code? [y/N]  y\n",
      "The repository for InstaDeepAI/nucleotide-transformer-v2-500m-multi-species contains custom code which must be executed to correctly load the model. You can inspect the repository content at https://hf.co/InstaDeepAI/nucleotide-transformer-v2-500m-multi-species.\n",
      "You can avoid this prompt in future by passing the argument `trust_remote_code=True`.\n",
      "\n",
      "Do you wish to run the custom code? [y/N]  y\n"
     ]
    },
    {
     "name": "stderr",
     "output_type": "stream",
     "text": [
      "Some weights of the model checkpoint at InstaDeepAI/nucleotide-transformer-v2-500m-multi-species were not used when initializing EsmForSequenceClassification: ['lm_head.bias', 'lm_head.decoder.weight', 'lm_head.dense.bias', 'lm_head.dense.weight', 'lm_head.layer_norm.bias', 'lm_head.layer_norm.weight']\n",
      "- This IS expected if you are initializing EsmForSequenceClassification from the checkpoint of a model trained on another task or with another architecture (e.g. initializing a BertForSequenceClassification model from a BertForPreTraining model).\n",
      "- This IS NOT expected if you are initializing EsmForSequenceClassification from the checkpoint of a model that you expect to be exactly identical (initializing a BertForSequenceClassification model from a BertForSequenceClassification model).\n",
      "Some weights of EsmForSequenceClassification were not initialized from the model checkpoint at InstaDeepAI/nucleotide-transformer-v2-500m-multi-species and are newly initialized: ['classifier.dense.bias', 'classifier.dense.weight', 'classifier.out_proj.bias', 'classifier.out_proj.weight']\n",
      "You should probably TRAIN this model on a down-stream task to be able to use it for predictions and inference.\n"
     ]
    }
   ],
   "source": [
    "num_labels_promoter = 2\n",
    "# Load the model\n",
    "model = AutoModelForSequenceClassification.from_pretrained(\"InstaDeepAI/nucleotide-transformer-v2-500m-multi-species\", num_labels=num_labels_promoter, cache_dir=model_path)\n",
    "\n",
    "device = torch.device(\"cuda\")\n",
    "model = model.to(device)"
   ]
  },
  {
   "cell_type": "code",
   "execution_count": 4,
   "id": "33896266-94d3-49f4-ac18-fcd134687f4b",
   "metadata": {},
   "outputs": [
    {
     "name": "stdout",
     "output_type": "stream",
     "text": [
      "                                        DNA_sequence  Target\n",
      "0  CTCTTGCGGTCGATCTGGTCACGGGTGATGGTGAAGGTTACGTAGT...       1\n",
      "1  TCGCGGTCCCGAGCCTGATCGTGCGCCGCGCCAACACGACGGTCGA...       1\n",
      "2  GGCTACGACGTGACCGCGGGGCAGGTGCTCGTGACCAACGGCGGCA...       1\n",
      "3  CAGGTAGGTGCCACAGTAGTAAGCGGTGATGCAGTTGCCCCTGAAT...       1\n",
      "4  GAGTTGTCCTGGTAAGATTCTTACCCATGCGAATCACGTCGAAAGG...       1\n"
     ]
    }
   ],
   "source": [
    "import pandas as pd\n",
    "\n",
    "file_path = \"/scratch/lb4489/LLM/Coding_NonCoding_DNA_Sequences\"  \n",
    "df = pd.read_csv(file_path, sep=\",\", header=0) \n",
    "df_selected = df.iloc[:, [2, 3]]\n",
    "print(df_selected.head())"
   ]
  },
  {
   "cell_type": "code",
   "execution_count": 5,
   "id": "9a0ca76b-7875-4f38-8492-2a3dd83ca493",
   "metadata": {},
   "outputs": [],
   "source": [
    "from sklearn.model_selection import train_test_split\n",
    "from datasets import load_dataset, Dataset"
   ]
  },
  {
   "cell_type": "code",
   "execution_count": 6,
   "id": "fa59ce31-9f55-4e6e-8e47-31174c313c1d",
   "metadata": {},
   "outputs": [
    {
     "name": "stdout",
     "output_type": "stream",
     "text": [
      "Dataset({\n",
      "    features: ['data', 'labels'],\n",
      "    num_rows: 52256\n",
      "})\n",
      "Dataset({\n",
      "    features: ['data', 'labels'],\n",
      "    num_rows: 13065\n",
      "})\n"
     ]
    },
    {
     "name": "stderr",
     "output_type": "stream",
     "text": [
      "/tmpdata/ipykernel_2349793/2918007003.py:2: SettingWithCopyWarning: \n",
      "A value is trying to be set on a copy of a slice from a DataFrame.\n",
      "Try using .loc[row_indexer,col_indexer] = value instead\n",
      "\n",
      "See the caveats in the documentation: https://pandas.pydata.org/pandas-docs/stable/user_guide/indexing.html#returning-a-view-versus-a-copy\n",
      "  df_selected[\"labels\"] = df_selected[\"labels\"].astype(int)\n"
     ]
    }
   ],
   "source": [
    "df_selected.columns = [\"data\", \"labels\"]  \n",
    "df_selected[\"labels\"] = df_selected[\"labels\"].astype(int)\n",
    "\n",
    "train_data, val_data, train_labels, val_labels = train_test_split(\n",
    "    df_selected[\"data\"], df_selected[\"labels\"], test_size=0.2, random_state=42\n",
    ")\n",
    "\n",
    "ds_train = Dataset.from_dict({\"data\": train_data.tolist(), \"labels\": train_labels.tolist()})\n",
    "ds_validation = Dataset.from_dict({\"data\": val_data.tolist(), \"labels\": val_labels.tolist()})\n",
    "\n",
    "print(ds_train)\n",
    "print(ds_validation)"
   ]
  },
  {
   "cell_type": "code",
   "execution_count": 7,
   "id": "ba245f60-0d3d-442d-966d-05a6ee150e9f",
   "metadata": {},
   "outputs": [
    {
     "name": "stdout",
     "output_type": "stream",
     "text": [
      "<class 'int'>\n"
     ]
    }
   ],
   "source": [
    "print(type(ds_train[0][\"labels\"]))"
   ]
  },
  {
   "cell_type": "code",
   "execution_count": 8,
   "id": "9beb9310-39be-42f4-8381-5228b590589a",
   "metadata": {},
   "outputs": [],
   "source": [
    "def tokenize_function(examples):\n",
    "    outputs = tokenizer(examples[\"data\"])\n",
    "    return outputs"
   ]
  },
  {
   "cell_type": "code",
   "execution_count": 9,
   "id": "e0f09fcb-db1a-4efa-ba3a-41f90a1cbe79",
   "metadata": {},
   "outputs": [
    {
     "name": "stderr",
     "output_type": "stream",
     "text": [
      "Map: 100%|██████████| 52256/52256 [00:10<00:00, 5144.88 examples/s]\n",
      "Map: 100%|██████████| 13065/13065 [00:02<00:00, 5167.04 examples/s]\n"
     ]
    }
   ],
   "source": [
    "tokenized_datasets_train = ds_train.map(\n",
    "    tokenize_function,\n",
    "    batched=True,\n",
    "    remove_columns=[\"data\"],\n",
    ")\n",
    "tokenized_datasets_validation = ds_validation.map(\n",
    "    tokenize_function,\n",
    "    batched=True,\n",
    "    remove_columns=[\"data\"],\n",
    ")"
   ]
  },
  {
   "cell_type": "code",
   "execution_count": 10,
   "id": "f37b4520-7aa5-4b5a-8911-5058ead6337c",
   "metadata": {},
   "outputs": [],
   "source": [
    "from transformers import TrainingArguments, Trainer"
   ]
  },
  {
   "cell_type": "code",
   "execution_count": 26,
   "id": "c6be1477-0595-4623-89d4-4039e21d6723",
   "metadata": {},
   "outputs": [
    {
     "name": "stderr",
     "output_type": "stream",
     "text": [
      "/home/lb4489/.local/lib/python3.12/site-packages/transformers/training_args.py:1575: FutureWarning: `evaluation_strategy` is deprecated and will be removed in version 4.46 of 🤗 Transformers. Use `eval_strategy` instead\n",
      "  warnings.warn(\n"
     ]
    }
   ],
   "source": [
    "batch_size = 16\n",
    "model_name='nucleotide-transformer'\n",
    "args_promoter = TrainingArguments(\n",
    "    f\"{model_name}-finetuned-NucleotideTransformer\",\n",
    "    remove_unused_columns=False,\n",
    "    evaluation_strategy=\"steps\",\n",
    "    save_strategy=\"steps\",\n",
    "    learning_rate=1e-5,\n",
    "    per_device_train_batch_size=batch_size,\n",
    "    gradient_accumulation_steps= 1,\n",
    "    per_device_eval_batch_size= 64,\n",
    "    num_train_epochs= 2,\n",
    "    logging_steps= 100,\n",
    "    load_best_model_at_end=True,  # Keep the best model according to the evaluation\n",
    "    metric_for_best_model=\"f1_score\",\n",
    "    label_names=[\"labels\"],\n",
    "    dataloader_drop_last=True,\n",
    "    max_steps= 2000,\n",
    "    weight_decay=0.01,  #gpt给的三个参数还挺重要的，能让表现提升\n",
    "    lr_scheduler_type=\"linear\", \n",
    "    warmup_ratio=0.1,\n",
    ")"
   ]
  },
  {
   "cell_type": "code",
   "execution_count": null,
   "id": "807cf767-63ca-485a-b1e8-749b864fbe97",
   "metadata": {},
   "outputs": [],
   "source": []
  },
  {
   "cell_type": "code",
   "execution_count": 27,
   "id": "53d4e07e-7511-4131-8f37-b9168b80aeba",
   "metadata": {},
   "outputs": [],
   "source": [
    "import numpy as np\n",
    "import torch\n",
    "import torch.nn.functional as F\n",
    "from sklearn.metrics import accuracy_score, f1_score, recall_score\n",
    "\n",
    "def compute_metrics(eval_pred):\n",
    "    logits, labels = eval_pred\n",
    "    predictions = np.argmax(logits, axis=-1)\n",
    "\n",
    "    # 计算 Accuracy, F1-score, Recall\n",
    "    acc = accuracy_score(labels, predictions)\n",
    "    f1 = f1_score(labels, predictions, average=\"weighted\")\n",
    "\n",
    "    return {\n",
    "        \"accuracy\": acc,\n",
    "        \"f1_score\": f1\n",
    "    }\n",
    "\n"
   ]
  },
  {
   "cell_type": "code",
   "execution_count": 28,
   "id": "0a0152b4-98e8-456e-90f7-94d4bbee1eb3",
   "metadata": {},
   "outputs": [
    {
     "name": "stderr",
     "output_type": "stream",
     "text": [
      "/tmpdata/ipykernel_2349793/1959967892.py:1: FutureWarning: `tokenizer` is deprecated and will be removed in version 5.0.0 for `Trainer.__init__`. Use `processing_class` instead.\n",
      "  trainer = Trainer(\n",
      "Detected kernel version 4.18.0, which is below the recommended minimum of 5.5.0; this can cause the process to hang. It is recommended to upgrade the kernel to the minimum version or higher.\n"
     ]
    }
   ],
   "source": [
    "trainer = Trainer(\n",
    "    model.to(device),\n",
    "    args=args_promoter,\n",
    "    train_dataset=tokenized_datasets_train,\n",
    "    eval_dataset=tokenized_datasets_validation,\n",
    "    tokenizer=tokenizer,\n",
    "    compute_metrics=compute_metrics,  # 使用新的 metrics 计算函数\n",
    ")"
   ]
  },
  {
   "cell_type": "code",
   "execution_count": 29,
   "id": "12097701-1ca8-48b1-87f0-fda08ebb68e3",
   "metadata": {},
   "outputs": [
    {
     "data": {
      "text/html": [
       "\n",
       "    <div>\n",
       "      \n",
       "      <progress value='2000' max='2000' style='width:300px; height:20px; vertical-align: middle;'></progress>\n",
       "      [2000/2000 26:36, Epoch 0/1]\n",
       "    </div>\n",
       "    <table border=\"1\" class=\"dataframe\">\n",
       "  <thead>\n",
       " <tr style=\"text-align: left;\">\n",
       "      <th>Step</th>\n",
       "      <th>Training Loss</th>\n",
       "      <th>Validation Loss</th>\n",
       "      <th>Accuracy</th>\n",
       "      <th>F1 Score</th>\n",
       "    </tr>\n",
       "  </thead>\n",
       "  <tbody>\n",
       "    <tr>\n",
       "      <td>100</td>\n",
       "      <td>0.505000</td>\n",
       "      <td>0.544393</td>\n",
       "      <td>0.722733</td>\n",
       "      <td>0.696970</td>\n",
       "    </tr>\n",
       "    <tr>\n",
       "      <td>200</td>\n",
       "      <td>0.473300</td>\n",
       "      <td>0.592035</td>\n",
       "      <td>0.714537</td>\n",
       "      <td>0.694253</td>\n",
       "    </tr>\n",
       "    <tr>\n",
       "      <td>300</td>\n",
       "      <td>0.506500</td>\n",
       "      <td>0.586823</td>\n",
       "      <td>0.702436</td>\n",
       "      <td>0.697631</td>\n",
       "    </tr>\n",
       "    <tr>\n",
       "      <td>400</td>\n",
       "      <td>0.455500</td>\n",
       "      <td>0.621877</td>\n",
       "      <td>0.704121</td>\n",
       "      <td>0.688750</td>\n",
       "    </tr>\n",
       "    <tr>\n",
       "      <td>500</td>\n",
       "      <td>0.504800</td>\n",
       "      <td>0.580768</td>\n",
       "      <td>0.703202</td>\n",
       "      <td>0.697001</td>\n",
       "    </tr>\n",
       "    <tr>\n",
       "      <td>600</td>\n",
       "      <td>0.499900</td>\n",
       "      <td>0.562968</td>\n",
       "      <td>0.710401</td>\n",
       "      <td>0.708106</td>\n",
       "    </tr>\n",
       "    <tr>\n",
       "      <td>700</td>\n",
       "      <td>0.529000</td>\n",
       "      <td>0.542022</td>\n",
       "      <td>0.729856</td>\n",
       "      <td>0.702534</td>\n",
       "    </tr>\n",
       "    <tr>\n",
       "      <td>800</td>\n",
       "      <td>0.529200</td>\n",
       "      <td>0.543633</td>\n",
       "      <td>0.728860</td>\n",
       "      <td>0.702575</td>\n",
       "    </tr>\n",
       "    <tr>\n",
       "      <td>900</td>\n",
       "      <td>0.495800</td>\n",
       "      <td>0.579127</td>\n",
       "      <td>0.722580</td>\n",
       "      <td>0.656381</td>\n",
       "    </tr>\n",
       "    <tr>\n",
       "      <td>1000</td>\n",
       "      <td>0.533700</td>\n",
       "      <td>0.530682</td>\n",
       "      <td>0.736749</td>\n",
       "      <td>0.718227</td>\n",
       "    </tr>\n",
       "    <tr>\n",
       "      <td>1100</td>\n",
       "      <td>0.543400</td>\n",
       "      <td>0.528957</td>\n",
       "      <td>0.736903</td>\n",
       "      <td>0.711930</td>\n",
       "    </tr>\n",
       "    <tr>\n",
       "      <td>1200</td>\n",
       "      <td>0.527500</td>\n",
       "      <td>0.550943</td>\n",
       "      <td>0.737515</td>\n",
       "      <td>0.698504</td>\n",
       "    </tr>\n",
       "    <tr>\n",
       "      <td>1300</td>\n",
       "      <td>0.533600</td>\n",
       "      <td>0.532363</td>\n",
       "      <td>0.737439</td>\n",
       "      <td>0.722672</td>\n",
       "    </tr>\n",
       "    <tr>\n",
       "      <td>1400</td>\n",
       "      <td>0.534200</td>\n",
       "      <td>0.525019</td>\n",
       "      <td>0.740502</td>\n",
       "      <td>0.717047</td>\n",
       "    </tr>\n",
       "    <tr>\n",
       "      <td>1500</td>\n",
       "      <td>0.519900</td>\n",
       "      <td>0.534423</td>\n",
       "      <td>0.735524</td>\n",
       "      <td>0.687897</td>\n",
       "    </tr>\n",
       "    <tr>\n",
       "      <td>1600</td>\n",
       "      <td>0.541900</td>\n",
       "      <td>0.521176</td>\n",
       "      <td>0.740962</td>\n",
       "      <td>0.715554</td>\n",
       "    </tr>\n",
       "    <tr>\n",
       "      <td>1700</td>\n",
       "      <td>0.518700</td>\n",
       "      <td>0.520371</td>\n",
       "      <td>0.738511</td>\n",
       "      <td>0.716010</td>\n",
       "    </tr>\n",
       "    <tr>\n",
       "      <td>1800</td>\n",
       "      <td>0.533700</td>\n",
       "      <td>0.518884</td>\n",
       "      <td>0.741728</td>\n",
       "      <td>0.718058</td>\n",
       "    </tr>\n",
       "    <tr>\n",
       "      <td>1900</td>\n",
       "      <td>0.530100</td>\n",
       "      <td>0.518209</td>\n",
       "      <td>0.740962</td>\n",
       "      <td>0.716270</td>\n",
       "    </tr>\n",
       "    <tr>\n",
       "      <td>2000</td>\n",
       "      <td>0.520600</td>\n",
       "      <td>0.518156</td>\n",
       "      <td>0.741115</td>\n",
       "      <td>0.714910</td>\n",
       "    </tr>\n",
       "  </tbody>\n",
       "</table><p>"
      ],
      "text/plain": [
       "<IPython.core.display.HTML object>"
      ]
     },
     "metadata": {},
     "output_type": "display_data"
    },
    {
     "name": "stderr",
     "output_type": "stream",
     "text": [
      "Could not locate the best model at nucleotide-transformer-finetuned-NucleotideTransformer/checkpoint-1300/pytorch_model.bin, if you are running a distributed training on multiple nodes, you should activate `--save_on_each_node`.\n"
     ]
    },
    {
     "data": {
      "text/html": [
       "\n",
       "    <div>\n",
       "      \n",
       "      <progress value='204' max='204' style='width:300px; height:20px; vertical-align: middle;'></progress>\n",
       "      [204/204 00:52]\n",
       "    </div>\n",
       "    "
      ],
      "text/plain": [
       "<IPython.core.display.HTML object>"
      ]
     },
     "metadata": {},
     "output_type": "display_data"
    },
    {
     "data": {
      "text/plain": [
       "{'eval_loss': 0.5181562304496765,\n",
       " 'eval_accuracy': 0.7411151960784313,\n",
       " 'eval_f1_score': 0.7149100585385345,\n",
       " 'eval_runtime': 52.7085,\n",
       " 'eval_samples_per_second': 247.873,\n",
       " 'eval_steps_per_second': 3.889,\n",
       " 'epoch': 0.612369871402327}"
      ]
     },
     "execution_count": 29,
     "metadata": {},
     "output_type": "execute_result"
    }
   ],
   "source": [
    "trainer.train()\n",
    "trainer.evaluate()"
   ]
  },
  {
   "cell_type": "code",
   "execution_count": 30,
   "id": "950865fc-92b6-433e-a270-12586991ce27",
   "metadata": {},
   "outputs": [],
   "source": [
    "\n",
    "curve_evaluation_f1_score = [[a['step'], a['eval_f1_score']] for a in trainer.state.log_history if 'eval_f1_score' in a]\n",
    "\n",
    "curve_evaluation_accuracy = [[a['step'], a['eval_accuracy']] for a in trainer.state.log_history if 'eval_accuracy' in a]\n",
    "\n",
    "\n",
    "eval_f1_score = [c[1] for c in curve_evaluation_f1_score]\n",
    "eval_accuracy = [c[1] for c in curve_evaluation_accuracy]\n",
    "\n",
    "steps = [c[0] for c in curve_evaluation_f1_score] "
   ]
  },
  {
   "cell_type": "code",
   "execution_count": 31,
   "id": "3cfa5f59-6ff5-46fa-b6ff-2167fe86f413",
   "metadata": {},
   "outputs": [
    {
     "data": {
      "image/png": "[encoded data removed]",
      "text/plain": [
       "<Figure size 1000x500 with 1 Axes>"
      ]
     },
     "metadata": {},
     "output_type": "display_data"
    }
   ],
   "source": [
    "import matplotlib.pyplot as plt\n",
    "\n",
    "plt.figure(figsize=(10, 5))\n",
    "\n",
    "plt.plot(steps, eval_f1_score, 'b', marker=\"o\", linestyle=\"-\", label='Validation F1 Score')\n",
    "\n",
    "plt.plot(steps, eval_accuracy, 'g', marker=\"o\", linestyle=\"--\", label='Validation Accuracy')\n",
    "\n",
    "plt.title('Evaluation Metrics Over Training Steps')\n",
    "plt.xlabel('Number of Training Steps')\n",
    "plt.ylabel('Score')\n",
    "plt.legend()\n",
    "plt.grid(True)\n",
    "\n",
    "plt.show()"
   ]
  },
  {
   "cell_type": "code",
   "execution_count": null,
   "id": "956c73fb-3970-4683-b6b8-dd71a72f3be6",
   "metadata": {},
   "outputs": [],
   "source": [
    "#感觉还行，继续训练或许还能涨，已经比kaggle两个模型表现好多了，而且还要考虑到这个来历不明的数据也不一定多准确"
   ]
  },
  {
   "cell_type": "code",
   "execution_count": null,
   "id": "610d1550-8cf1-4d8f-b4d6-7a1107fef1e8",
   "metadata": {},
   "outputs": [],
   "source": []
  },
  {
   "cell_type": "code",
   "execution_count": 33,
   "id": "b0bfbdd2-33fa-4c7e-a52c-be28b4dffbb8",
   "metadata": {},
   "outputs": [
    {
     "name": "stdout",
     "output_type": "stream",
     "text": [
      "   chrom     start       end strand  label  \\\n",
      "0      5  10798867  10799378      +      0   \n",
      "1      5     79484     79995      +      0   \n",
      "2      5    713949    714460      -      0   \n",
      "3      5   5526039   5526550      -      1   \n",
      "4      5  16826521  16827032      -      0   \n",
      "\n",
      "                                           sequences  \n",
      "0  GTAAGGGATTTTACTCACTCTTGAGCACTCAAGATAAATTCCAAGA...  \n",
      "1  CTTGTATGCAAAGGTTTGGATCCCTCTTCTCTTGCTTTTATATGTA...  \n",
      "2  CTGAAATCATTGACTTTTTTCGGAGATAAACCCAAAAGGTTCCTTA...  \n",
      "3  ATACCTGAACAAAATCAAATGCTTTGATAAGACACTTCCAAAAAAC...  \n",
      "4  ACACTGGAAACGCCGGCCATTCGGTTGGAATCGGTGAATTGGTGAA...  \n"
     ]
    }
   ],
   "source": [
    "import pandas as pd\n",
    "\n",
    "# 读取 TSV 文件\n",
    "df = pd.read_csv(\"/scratch/lb4489/LLM/valid.tsv\", sep=\"\\t\")\n",
    "\n",
    "# 显示前几行\n",
    "print(df.head())\n"
   ]
  },
  {
   "cell_type": "code",
   "execution_count": 34,
   "id": "a7c9f50a-2100-4a16-bb10-6cf233be46d5",
   "metadata": {},
   "outputs": [
    {
     "name": "stdout",
     "output_type": "stream",
     "text": [
      "                                           sequences  label\n",
      "0  GTAAGGGATTTTACTCACTCTTGAGCACTCAAGATAAATTCCAAGA...      0\n",
      "1  CTTGTATGCAAAGGTTTGGATCCCTCTTCTCTTGCTTTTATATGTA...      0\n",
      "2  CTGAAATCATTGACTTTTTTCGGAGATAAACCCAAAAGGTTCCTTA...      0\n",
      "3  ATACCTGAACAAAATCAAATGCTTTGATAAGACACTTCCAAAAAAC...      1\n",
      "4  ACACTGGAAACGCCGGCCATTCGGTTGGAATCGGTGAATTGGTGAA...      0\n"
     ]
    }
   ],
   "source": [
    "df_selected = df.iloc[:, [5,4]]\n",
    "print(df_selected.head())"
   ]
  },
  {
   "cell_type": "code",
   "execution_count": 35,
   "id": "a70cf10e-70e8-4985-ab42-834c8a68e757",
   "metadata": {},
   "outputs": [
    {
     "data": {
      "text/plain": [
       "57825"
      ]
     },
     "execution_count": 35,
     "metadata": {},
     "output_type": "execute_result"
    }
   ],
   "source": [
    "df_selected.shape[0]"
   ]
  },
  {
   "cell_type": "code",
   "execution_count": 36,
   "id": "d866eca5-ca45-4257-8ba7-c870e3a0d023",
   "metadata": {},
   "outputs": [
    {
     "name": "stdout",
     "output_type": "stream",
     "text": [
      "label\n",
      "0    50514\n",
      "1     7311\n",
      "Name: count, dtype: int64\n"
     ]
    }
   ],
   "source": [
    "print(df_selected[\"label\"].value_counts())\n"
   ]
  },
  {
   "cell_type": "code",
   "execution_count": 37,
   "id": "79f3a9a9-76c5-4539-a59a-9597bf2df845",
   "metadata": {},
   "outputs": [
    {
     "name": "stdout",
     "output_type": "stream",
     "text": [
      "Dataset({\n",
      "    features: ['data', 'labels'],\n",
      "    num_rows: 46260\n",
      "})\n",
      "Dataset({\n",
      "    features: ['data', 'labels'],\n",
      "    num_rows: 11565\n",
      "})\n"
     ]
    },
    {
     "name": "stderr",
     "output_type": "stream",
     "text": [
      "/tmpdata/ipykernel_2349793/2918007003.py:2: SettingWithCopyWarning: \n",
      "A value is trying to be set on a copy of a slice from a DataFrame.\n",
      "Try using .loc[row_indexer,col_indexer] = value instead\n",
      "\n",
      "See the caveats in the documentation: https://pandas.pydata.org/pandas-docs/stable/user_guide/indexing.html#returning-a-view-versus-a-copy\n",
      "  df_selected[\"labels\"] = df_selected[\"labels\"].astype(int)\n"
     ]
    }
   ],
   "source": [
    "df_selected.columns = [\"data\", \"labels\"]  \n",
    "df_selected[\"labels\"] = df_selected[\"labels\"].astype(int)\n",
    "\n",
    "train_data, val_data, train_labels, val_labels = train_test_split(\n",
    "    df_selected[\"data\"], df_selected[\"labels\"], test_size=0.2, random_state=42\n",
    ")\n",
    "\n",
    "ds_train = Dataset.from_dict({\"data\": train_data.tolist(), \"labels\": train_labels.tolist()})\n",
    "ds_validation = Dataset.from_dict({\"data\": val_data.tolist(), \"labels\": val_labels.tolist()})\n",
    "\n",
    "print(ds_train)\n",
    "print(ds_validation)"
   ]
  },
  {
   "cell_type": "code",
   "execution_count": 38,
   "id": "47e020af-41a6-475c-99d7-4ae6a78e31c7",
   "metadata": {},
   "outputs": [
    {
     "name": "stderr",
     "output_type": "stream",
     "text": [
      "Map: 100%|██████████| 46260/46260 [00:25<00:00, 1813.47 examples/s]\n",
      "Map: 100%|██████████| 11565/11565 [00:06<00:00, 1833.21 examples/s]\n"
     ]
    }
   ],
   "source": [
    "tokenized_datasets_train = ds_train.map(\n",
    "    tokenize_function,\n",
    "    batched=True,\n",
    "    remove_columns=[\"data\"],\n",
    ")\n",
    "tokenized_datasets_validation = ds_validation.map(\n",
    "    tokenize_function,\n",
    "    batched=True,\n",
    "    remove_columns=[\"data\"],\n",
    ")"
   ]
  },
  {
   "cell_type": "code",
   "execution_count": 39,
   "id": "883dff28-1927-4c51-8015-37a43296fd7a",
   "metadata": {},
   "outputs": [
    {
     "name": "stderr",
     "output_type": "stream",
     "text": [
      "/home/lb4489/.local/lib/python3.12/site-packages/transformers/training_args.py:1575: FutureWarning: `evaluation_strategy` is deprecated and will be removed in version 4.46 of 🤗 Transformers. Use `eval_strategy` instead\n",
      "  warnings.warn(\n"
     ]
    }
   ],
   "source": [
    "batch_size = 16\n",
    "model_name='nucleotide-transformer'\n",
    "args_promoter = TrainingArguments(\n",
    "    f\"{model_name}-finetuned-NucleotideTransformer\",\n",
    "    remove_unused_columns=False,\n",
    "    evaluation_strategy=\"steps\",\n",
    "    save_strategy=\"steps\",\n",
    "    learning_rate=1e-5,\n",
    "    per_device_train_batch_size=batch_size,\n",
    "    gradient_accumulation_steps= 1,\n",
    "    per_device_eval_batch_size= 64,\n",
    "    num_train_epochs= 2,\n",
    "    logging_steps= 100,\n",
    "    load_best_model_at_end=True,  # Keep the best model according to the evaluation\n",
    "    metric_for_best_model=\"f1_score\",\n",
    "    label_names=[\"labels\"],\n",
    "    dataloader_drop_last=True,\n",
    "    max_steps= 2000,\n",
    "    weight_decay=0.01,  #gpt给的三个参数还挺重要的，能让表现提升\n",
    "    lr_scheduler_type=\"linear\", \n",
    "    warmup_ratio=0.1,\n",
    ")"
   ]
  },
  {
   "cell_type": "code",
   "execution_count": 40,
   "id": "9aca794a-199c-44c1-ab8d-f048fc866348",
   "metadata": {},
   "outputs": [
    {
     "name": "stderr",
     "output_type": "stream",
     "text": [
      "/tmpdata/ipykernel_2349793/1959967892.py:1: FutureWarning: `tokenizer` is deprecated and will be removed in version 5.0.0 for `Trainer.__init__`. Use `processing_class` instead.\n",
      "  trainer = Trainer(\n",
      "Detected kernel version 4.18.0, which is below the recommended minimum of 5.5.0; this can cause the process to hang. It is recommended to upgrade the kernel to the minimum version or higher.\n"
     ]
    }
   ],
   "source": [
    "trainer = Trainer(\n",
    "    model.to(device),\n",
    "    args=args_promoter,\n",
    "    train_dataset=tokenized_datasets_train,\n",
    "    eval_dataset=tokenized_datasets_validation,\n",
    "    tokenizer=tokenizer,\n",
    "    compute_metrics=compute_metrics,  # 使用新的 metrics 计算函数\n",
    ")"
   ]
  },
  {
   "cell_type": "code",
   "execution_count": 41,
   "id": "9cde9d14-719e-4fdb-9a95-2c09942241ec",
   "metadata": {},
   "outputs": [
    {
     "data": {
      "text/html": [
       "\n",
       "    <div>\n",
       "      \n",
       "      <progress value='669' max='2000' style='width:300px; height:20px; vertical-align: middle;'></progress>\n",
       "      [ 669/2000 15:14 < 30:24, 0.73 it/s, Epoch 0.23/1]\n",
       "    </div>\n",
       "    <table border=\"1\" class=\"dataframe\">\n",
       "  <thead>\n",
       " <tr style=\"text-align: left;\">\n",
       "      <th>Step</th>\n",
       "      <th>Training Loss</th>\n",
       "      <th>Validation Loss</th>\n",
       "      <th>Accuracy</th>\n",
       "      <th>F1 Score</th>\n",
       "    </tr>\n",
       "  </thead>\n",
       "  <tbody>\n",
       "    <tr>\n",
       "      <td>100</td>\n",
       "      <td>0.382500</td>\n",
       "      <td>0.370749</td>\n",
       "      <td>0.872917</td>\n",
       "      <td>0.814183</td>\n",
       "    </tr>\n",
       "    <tr>\n",
       "      <td>200</td>\n",
       "      <td>0.310200</td>\n",
       "      <td>0.280912</td>\n",
       "      <td>0.889062</td>\n",
       "      <td>0.862444</td>\n",
       "    </tr>\n",
       "    <tr>\n",
       "      <td>300</td>\n",
       "      <td>0.284100</td>\n",
       "      <td>0.276101</td>\n",
       "      <td>0.904167</td>\n",
       "      <td>0.890434</td>\n",
       "    </tr>\n",
       "    <tr>\n",
       "      <td>400</td>\n",
       "      <td>0.252600</td>\n",
       "      <td>0.249065</td>\n",
       "      <td>0.915451</td>\n",
       "      <td>0.903751</td>\n",
       "    </tr>\n",
       "    <tr>\n",
       "      <td>500</td>\n",
       "      <td>0.234800</td>\n",
       "      <td>0.229222</td>\n",
       "      <td>0.906597</td>\n",
       "      <td>0.908355</td>\n",
       "    </tr>\n",
       "    <tr>\n",
       "      <td>600</td>\n",
       "      <td>0.238700</td>\n",
       "      <td>0.203822</td>\n",
       "      <td>0.926736</td>\n",
       "      <td>0.922120</td>\n",
       "    </tr>\n",
       "  </tbody>\n",
       "</table><p>"
      ],
      "text/plain": [
       "<IPython.core.display.HTML object>"
      ]
     },
     "metadata": {},
     "output_type": "display_data"
    },
    {
     "ename": "KeyboardInterrupt",
     "evalue": "",
     "output_type": "error",
     "traceback": [
      "\u001b[0;31m---------------------------------------------------------------------------\u001b[0m",
      "\u001b[0;31mKeyboardInterrupt\u001b[0m                         Traceback (most recent call last)",
      "Cell \u001b[0;32mIn[41], line 1\u001b[0m\n\u001b[0;32m----> 1\u001b[0m \u001b[43mtrainer\u001b[49m\u001b[38;5;241;43m.\u001b[39;49m\u001b[43mtrain\u001b[49m\u001b[43m(\u001b[49m\u001b[43m)\u001b[49m\n\u001b[1;32m      2\u001b[0m trainer\u001b[38;5;241m.\u001b[39mevaluate()\n",
      "File \u001b[0;32m~/.local/lib/python3.12/site-packages/transformers/trainer.py:2171\u001b[0m, in \u001b[0;36mTrainer.train\u001b[0;34m(self, resume_from_checkpoint, trial, ignore_keys_for_eval, **kwargs)\u001b[0m\n\u001b[1;32m   2169\u001b[0m         hf_hub_utils\u001b[38;5;241m.\u001b[39menable_progress_bars()\n\u001b[1;32m   2170\u001b[0m \u001b[38;5;28;01melse\u001b[39;00m:\n\u001b[0;32m-> 2171\u001b[0m     \u001b[38;5;28;01mreturn\u001b[39;00m \u001b[43minner_training_loop\u001b[49m\u001b[43m(\u001b[49m\n\u001b[1;32m   2172\u001b[0m \u001b[43m        \u001b[49m\u001b[43margs\u001b[49m\u001b[38;5;241;43m=\u001b[39;49m\u001b[43margs\u001b[49m\u001b[43m,\u001b[49m\n\u001b[1;32m   2173\u001b[0m \u001b[43m        \u001b[49m\u001b[43mresume_from_checkpoint\u001b[49m\u001b[38;5;241;43m=\u001b[39;49m\u001b[43mresume_from_checkpoint\u001b[49m\u001b[43m,\u001b[49m\n\u001b[1;32m   2174\u001b[0m \u001b[43m        \u001b[49m\u001b[43mtrial\u001b[49m\u001b[38;5;241;43m=\u001b[39;49m\u001b[43mtrial\u001b[49m\u001b[43m,\u001b[49m\n\u001b[1;32m   2175\u001b[0m \u001b[43m        \u001b[49m\u001b[43mignore_keys_for_eval\u001b[49m\u001b[38;5;241;43m=\u001b[39;49m\u001b[43mignore_keys_for_eval\u001b[49m\u001b[43m,\u001b[49m\n\u001b[1;32m   2176\u001b[0m \u001b[43m    \u001b[49m\u001b[43m)\u001b[49m\n",
      "File \u001b[0;32m~/.local/lib/python3.12/site-packages/transformers/trainer.py:2480\u001b[0m, in \u001b[0;36mTrainer._inner_training_loop\u001b[0;34m(self, batch_size, args, resume_from_checkpoint, trial, ignore_keys_for_eval)\u001b[0m\n\u001b[1;32m   2478\u001b[0m update_step \u001b[38;5;241m+\u001b[39m\u001b[38;5;241m=\u001b[39m \u001b[38;5;241m1\u001b[39m\n\u001b[1;32m   2479\u001b[0m num_batches \u001b[38;5;241m=\u001b[39m args\u001b[38;5;241m.\u001b[39mgradient_accumulation_steps \u001b[38;5;28;01mif\u001b[39;00m update_step \u001b[38;5;241m!=\u001b[39m (total_updates \u001b[38;5;241m-\u001b[39m \u001b[38;5;241m1\u001b[39m) \u001b[38;5;28;01melse\u001b[39;00m remainder\n\u001b[0;32m-> 2480\u001b[0m batch_samples, num_items_in_batch \u001b[38;5;241m=\u001b[39m \u001b[38;5;28;43mself\u001b[39;49m\u001b[38;5;241;43m.\u001b[39;49m\u001b[43mget_batch_samples\u001b[49m\u001b[43m(\u001b[49m\u001b[43mepoch_iterator\u001b[49m\u001b[43m,\u001b[49m\u001b[43m \u001b[49m\u001b[43mnum_batches\u001b[49m\u001b[43m)\u001b[49m\n\u001b[1;32m   2481\u001b[0m \u001b[38;5;28;01mfor\u001b[39;00m i, inputs \u001b[38;5;129;01min\u001b[39;00m \u001b[38;5;28menumerate\u001b[39m(batch_samples):\n\u001b[1;32m   2482\u001b[0m     step \u001b[38;5;241m+\u001b[39m\u001b[38;5;241m=\u001b[39m \u001b[38;5;241m1\u001b[39m\n",
      "File \u001b[0;32m~/.local/lib/python3.12/site-packages/transformers/trainer.py:5153\u001b[0m, in \u001b[0;36mTrainer.get_batch_samples\u001b[0;34m(self, epoch_iterator, num_batches)\u001b[0m\n\u001b[1;32m   5151\u001b[0m \u001b[38;5;28;01mfor\u001b[39;00m _ \u001b[38;5;129;01min\u001b[39;00m \u001b[38;5;28mrange\u001b[39m(num_batches):\n\u001b[1;32m   5152\u001b[0m     \u001b[38;5;28;01mtry\u001b[39;00m:\n\u001b[0;32m-> 5153\u001b[0m         batch_samples \u001b[38;5;241m+\u001b[39m\u001b[38;5;241m=\u001b[39m [\u001b[38;5;28;43mnext\u001b[39;49m\u001b[43m(\u001b[49m\u001b[43mepoch_iterator\u001b[49m\u001b[43m)\u001b[49m]\n\u001b[1;32m   5154\u001b[0m     \u001b[38;5;28;01mexcept\u001b[39;00m \u001b[38;5;167;01mStopIteration\u001b[39;00m:\n\u001b[1;32m   5155\u001b[0m         \u001b[38;5;28;01mbreak\u001b[39;00m\n",
      "File \u001b[0;32m~/.local/lib/python3.12/site-packages/accelerate/data_loader.py:572\u001b[0m, in \u001b[0;36mDataLoaderShard.__iter__\u001b[0;34m(self)\u001b[0m\n\u001b[1;32m    569\u001b[0m \u001b[38;5;28;01mtry\u001b[39;00m:\n\u001b[1;32m    570\u001b[0m     \u001b[38;5;66;03m# But we still move it to the device so it is done before `StopIteration` is reached\u001b[39;00m\n\u001b[1;32m    571\u001b[0m     \u001b[38;5;28;01mif\u001b[39;00m \u001b[38;5;28mself\u001b[39m\u001b[38;5;241m.\u001b[39mdevice \u001b[38;5;129;01mis\u001b[39;00m \u001b[38;5;129;01mnot\u001b[39;00m \u001b[38;5;28;01mNone\u001b[39;00m:\n\u001b[0;32m--> 572\u001b[0m         current_batch \u001b[38;5;241m=\u001b[39m \u001b[43msend_to_device\u001b[49m\u001b[43m(\u001b[49m\u001b[43mcurrent_batch\u001b[49m\u001b[43m,\u001b[49m\u001b[43m \u001b[49m\u001b[38;5;28;43mself\u001b[39;49m\u001b[38;5;241;43m.\u001b[39;49m\u001b[43mdevice\u001b[49m\u001b[43m,\u001b[49m\u001b[43m \u001b[49m\u001b[43mnon_blocking\u001b[49m\u001b[38;5;241;43m=\u001b[39;49m\u001b[38;5;28;43mself\u001b[39;49m\u001b[38;5;241;43m.\u001b[39;49m\u001b[43m_non_blocking\u001b[49m\u001b[43m)\u001b[49m\n\u001b[1;32m    573\u001b[0m     \u001b[38;5;28mself\u001b[39m\u001b[38;5;241m.\u001b[39m_update_state_dict()\n\u001b[1;32m    574\u001b[0m     next_batch \u001b[38;5;241m=\u001b[39m \u001b[38;5;28mnext\u001b[39m(dataloader_iter)\n",
      "File \u001b[0;32m~/.local/lib/python3.12/site-packages/accelerate/utils/operations.py:155\u001b[0m, in \u001b[0;36msend_to_device\u001b[0;34m(tensor, device, non_blocking, skip_keys)\u001b[0m\n\u001b[1;32m    153\u001b[0m     device \u001b[38;5;241m=\u001b[39m \u001b[38;5;124m\"\u001b[39m\u001b[38;5;124mxpu:0\u001b[39m\u001b[38;5;124m\"\u001b[39m\n\u001b[1;32m    154\u001b[0m \u001b[38;5;28;01mtry\u001b[39;00m:\n\u001b[0;32m--> 155\u001b[0m     \u001b[38;5;28;01mreturn\u001b[39;00m \u001b[43mtensor\u001b[49m\u001b[38;5;241;43m.\u001b[39;49m\u001b[43mto\u001b[49m\u001b[43m(\u001b[49m\u001b[43mdevice\u001b[49m\u001b[43m,\u001b[49m\u001b[43m \u001b[49m\u001b[43mnon_blocking\u001b[49m\u001b[38;5;241;43m=\u001b[39;49m\u001b[43mnon_blocking\u001b[49m\u001b[43m)\u001b[49m\n\u001b[1;32m    156\u001b[0m \u001b[38;5;28;01mexcept\u001b[39;00m \u001b[38;5;167;01mTypeError\u001b[39;00m:  \u001b[38;5;66;03m# .to() doesn't accept non_blocking as kwarg\u001b[39;00m\n\u001b[1;32m    157\u001b[0m     \u001b[38;5;28;01mreturn\u001b[39;00m tensor\u001b[38;5;241m.\u001b[39mto(device)\n",
      "File \u001b[0;32m~/.local/lib/python3.12/site-packages/transformers/tokenization_utils_base.py:821\u001b[0m, in \u001b[0;36mBatchEncoding.to\u001b[0;34m(self, device, non_blocking)\u001b[0m\n\u001b[1;32m    816\u001b[0m \u001b[38;5;66;03m# This check catches things like APEX blindly calling \"to\" on all inputs to a module\u001b[39;00m\n\u001b[1;32m    817\u001b[0m \u001b[38;5;66;03m# Otherwise it passes the casts down and casts the LongTensor containing the token idxs\u001b[39;00m\n\u001b[1;32m    818\u001b[0m \u001b[38;5;66;03m# into a HalfTensor\u001b[39;00m\n\u001b[1;32m    819\u001b[0m \u001b[38;5;28;01mif\u001b[39;00m \u001b[38;5;28misinstance\u001b[39m(device, \u001b[38;5;28mstr\u001b[39m) \u001b[38;5;129;01mor\u001b[39;00m is_torch_device(device) \u001b[38;5;129;01mor\u001b[39;00m \u001b[38;5;28misinstance\u001b[39m(device, \u001b[38;5;28mint\u001b[39m):\n\u001b[1;32m    820\u001b[0m     \u001b[38;5;28mself\u001b[39m\u001b[38;5;241m.\u001b[39mdata \u001b[38;5;241m=\u001b[39m {\n\u001b[0;32m--> 821\u001b[0m         k: \u001b[43mv\u001b[49m\u001b[38;5;241;43m.\u001b[39;49m\u001b[43mto\u001b[49m\u001b[43m(\u001b[49m\u001b[43mdevice\u001b[49m\u001b[38;5;241;43m=\u001b[39;49m\u001b[43mdevice\u001b[49m\u001b[43m,\u001b[49m\u001b[43m \u001b[49m\u001b[43mnon_blocking\u001b[49m\u001b[38;5;241;43m=\u001b[39;49m\u001b[43mnon_blocking\u001b[49m\u001b[43m)\u001b[49m \u001b[38;5;28;01mif\u001b[39;00m \u001b[38;5;28misinstance\u001b[39m(v, torch\u001b[38;5;241m.\u001b[39mTensor) \u001b[38;5;28;01melse\u001b[39;00m v\n\u001b[1;32m    822\u001b[0m         \u001b[38;5;28;01mfor\u001b[39;00m k, v \u001b[38;5;129;01min\u001b[39;00m \u001b[38;5;28mself\u001b[39m\u001b[38;5;241m.\u001b[39mdata\u001b[38;5;241m.\u001b[39mitems()\n\u001b[1;32m    823\u001b[0m     }\n\u001b[1;32m    824\u001b[0m \u001b[38;5;28;01melse\u001b[39;00m:\n\u001b[1;32m    825\u001b[0m     logger\u001b[38;5;241m.\u001b[39mwarning(\u001b[38;5;124mf\u001b[39m\u001b[38;5;124m\"\u001b[39m\u001b[38;5;124mAttempting to cast a BatchEncoding to type \u001b[39m\u001b[38;5;132;01m{\u001b[39;00m\u001b[38;5;28mstr\u001b[39m(device)\u001b[38;5;132;01m}\u001b[39;00m\u001b[38;5;124m. This is not supported.\u001b[39m\u001b[38;5;124m\"\u001b[39m)\n",
      "\u001b[0;31mKeyboardInterrupt\u001b[0m: "
     ]
    }
   ],
   "source": [
    "trainer.train() #我重置模型了吗？看起来表现要比上一个数据集好多了\n",
    "trainer.evaluate()"
   ]
  },
  {
   "cell_type": "code",
   "execution_count": null,
   "id": "3218ce57-3105-472a-8270-4daebb4afa18",
   "metadata": {},
   "outputs": [],
   "source": [
    "curve_evaluation_f1_score = [[a['step'], a['eval_f1_score']] for a in trainer.state.log_history if 'eval_f1_score' in a]\n",
    "\n",
    "curve_evaluation_accuracy = [[a['step'], a['eval_accuracy']] for a in trainer.state.log_history if 'eval_accuracy' in a]\n",
    "\n",
    "\n",
    "eval_f1_score = [c[1] for c in curve_evaluation_f1_score]\n",
    "eval_accuracy = [c[1] for c in curve_evaluation_accuracy]\n",
    "\n",
    "steps = [c[0] for c in curve_evaluation_f1_score] "
   ]
  },
  {
   "cell_type": "code",
   "execution_count": null,
   "id": "754f8bf7-15f3-4b6d-b9b1-86f449ffc5fb",
   "metadata": {},
   "outputs": [],
   "source": [
    "plt.figure(figsize=(10, 5))\n",
    "\n",
    "plt.plot(steps, eval_f1_score, 'b', marker=\"o\", linestyle=\"-\", label='Validation F1 Score')\n",
    "\n",
    "plt.plot(steps, eval_accuracy, 'g', marker=\"o\", linestyle=\"--\", label='Validation Accuracy')\n",
    "\n",
    "plt.title('Evaluation Metrics Over Training Steps')\n",
    "plt.xlabel('Number of Training Steps')\n",
    "plt.ylabel('Score')\n",
    "plt.legend()\n",
    "plt.grid(True)\n",
    "\n",
    "plt.show()"
   ]
  }
 ],
 "metadata": {
  "kernelspec": {
   "display_name": "Python 3 (ipykernel)",
   "language": "python",
   "name": "python3"
  },
  "language_info": {
   "codemirror_mode": {
    "name": "ipython",
    "version": 3
   },
   "file_extension": ".py",
   "mimetype": "text/x-python",
   "name": "python",
   "nbconvert_exporter": "python",
   "pygments_lexer": "ipython3",
   "version": "3.12.2"
  }
 },
 "nbformat": 4,
 "nbformat_minor": 5
}
