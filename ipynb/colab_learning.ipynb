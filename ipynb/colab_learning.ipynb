{
  "cells": [
    {
      "cell_type": "code",
      "execution_count": 27,
      "metadata": {
        "colab": {
          "base_uri": "https://localhost:8080/"
        },
        "id": "CggK6VeTH39E",
        "outputId": "f1ccce68-cd63-486c-cd61-6d030c914303"
      },
      "outputs": [
        {
          "name": "stdout",
          "output_type": "stream",
          "text": [
            "--2022-10-25 12:31:06--  https://repo.anaconda.com/miniconda/Miniconda3-py37_4.10.3-Linux-x86_64.sh\n",
            "Resolving repo.anaconda.com (repo.anaconda.com)... 104.16.131.3, 104.16.130.3, 2606:4700::6810:8303, ...\n",
            "Connecting to repo.anaconda.com (repo.anaconda.com)|104.16.131.3|:443... connected.\n",
            "HTTP request sent, awaiting response... 200 OK\n",
            "Length: 89026327 (85M) [application/x-sh]\n",
            "Saving to: ‘Miniconda3-py37_4.10.3-Linux-x86_64.sh’\n",
            "\n",
            "Miniconda3-py37_4.1 100%[===================>]  84.90M   158MB/s    in 0.5s    \n",
            "\n",
            "2022-10-25 12:31:06 (158 MB/s) - ‘Miniconda3-py37_4.10.3-Linux-x86_64.sh’ saved [89026327/89026327]\n",
            "\n",
            "environment.yml  Miniconda3-py37_4.10.3-Linux-x86_64.sh  sample_data  src\n"
          ]
        }
      ],
      "source": [
        "!wget -c https://repo.anaconda.com/miniconda/Miniconda3-py37_4.10.3-Linux-x86_64.sh\n",
        "!ls\n",
        "!chmod +x Miniconda3-py37_4.10.3-Linux-x86_64.sh\n",
        "%env PYTHONPATH=\n",
        "!./Miniconda3-py37_4.10.3-Linux-x86_64.sh -b -f -p /usr/local\n",
        "!which conda\n",
        "!conda --version"
      ]
    },
    {
      "cell_type": "code",
      "execution_count": 30,
      "metadata": {
        "colab": {
          "base_uri": "https://localhost:8080/"
        },
        "id": "N0LvqcdWHcpx",
        "outputId": "0b57267c-d561-47f1-c366-e1f7e7fea6ec"
      },
      "outputs": [
        {
          "name": "stdout",
          "output_type": "stream",
          "text": [
            "Collecting package metadata (repodata.json): - \b\b\\ \b\b| \b\b/ \b\b- \b\b\\ \b\b| \b\b/ \b\b- \b\b\\ \b\b| \b\b/ \b\b- \b\b\\ \b\b| \b\b/ \b\b- \b\b\\ \b\b| \b\b/ \b\b- \b\b\\ \b\b| \b\b/ \b\b- \b\b\\ \b\b| \b\b/ \b\b- \b\b\\ \b\b| \b\b/ \b\b- \b\b\\ \b\b| \b\b/ \b\b- \b\b\\ \b\b| \b\b/ \b\b- \b\b\\ \b\bdone\n",
            "Solving environment: / \b\bdone\n",
            "\n",
            "\n",
            "==> WARNING: A newer version of conda exists. <==\n",
            "  current version: 4.10.3\n",
            "  latest version: 22.9.0\n",
            "\n",
            "Please update conda by running\n",
            "\n",
            "    $ conda update -n base -c defaults conda\n",
            "\n",
            "\n",
            "\n",
            "Downloading and Extracting Packages\n",
            "tk-8.6.11            | 3.0 MB    | : 100% 1.0/1 [00:00<00:00,  5.35it/s]\n",
            "openssl-1.1.1m       | 2.5 MB    | : 100% 1.0/1 [00:00<00:00,  8.28it/s]\n",
            "setuptools-58.0.4    | 788 KB    | : 100% 1.0/1 [00:00<00:00, 11.13it/s]\n",
            "certifi-2020.6.20    | 155 KB    | : 100% 1.0/1 [00:00<00:00, 20.28it/s]\n",
            "pip-21.2.2           | 1.8 MB    | : 100% 1.0/1 [00:00<00:00,  5.95it/s]\n",
            "wheel-0.37.1         | 33 KB     | : 100% 1.0/1 [00:00<00:00, 22.71it/s]\n",
            "ncurses-6.3          | 782 KB    | : 100% 1.0/1 [00:00<00:00,  4.56it/s]\n",
            "zlib-1.2.11          | 108 KB    | : 100% 1.0/1 [00:00<00:00, 21.40it/s]\n",
            "readline-8.1.2       | 354 KB    | : 100% 1.0/1 [00:00<00:00, 16.97it/s]\n",
            "ca-certificates-2022 | 118 KB    | : 100% 1.0/1 [00:00<00:00, 22.58it/s]\n",
            "python-3.6.13        | 32.5 MB   | : 100% 1.0/1 [00:04<00:00,  4.56s/it]               \n",
            "sqlite-3.38.0        | 1.0 MB    | : 100% 1.0/1 [00:00<00:00, 12.50it/s]\n",
            "Preparing transaction: \\ \b\b| \b\b/ \b\b- \b\b\\ \b\bdone\n",
            "Verifying transaction: / \b\b- \b\b\\ \b\b| \b\b/ \b\b- \b\b\\ \b\b| \b\b/ \b\b- \b\b\\ \b\b| \b\bdone\n",
            "Executing transaction: - \b\b\\ \b\b| \b\b/ \b\b- \b\b\\ \b\b| \b\b/ \b\b- \b\b\\ \b\b| \b\b/ \b\b- \b\b\\ \b\b| \b\b/ \b\bdone\n",
            "Installing pip dependencies: \\ \b\b| \b\b/ \b\b- \b\b\\ \b\b| \b\b/ \b\b- \b\b\\ \b\b| \b\b/ \b\b- \b\b\\ \b\b| \b\b/ \b\b- \b\b\\ \b\b| \b\b/ \b\b- \b\b\\ \b\b| \b\b/ \b\b- \b\b\\ \b\b| \b\b/ \b\b- \b\b\\ \b\b| \b\b/ \b\b- \b\b\\ \b\b| \b\b/ \b\b- \b\b\\ \b\b| \b\b/ \b\b- \b\b\\ \b\b| \b\b/ \b\b- \b\b\\ \b\b| \b\b/ \b\b- \b\b\\ \b\b| \b\b/ \b\b- \b\b\\ \b\b| \b\b/ \b\b- \b\b\\ \b\b| \b\b/ \b\b- \b\b\\ \b\b| \b\b/ \b\b- \b\b\\ \b\b| \b\b/ \b\b- \b\b\\ \b\b| \b\b/ \b\b- \b\b\\ \b\b| \b\b/ \b\b- \b\b\\ \b\b| \b\b/ \b\b- \b\b\\ \b\b| \b\b/ \b\b- \b\b\\ \b\b| \b\b/ \b\b- \b\b\\ \b\b| \b\b/ \b\b- \b\b\\ \b\b| \b\b/ \b\b- \b\b\\ \b\b| \b\b/ \b\b- \b\b\\ \b\b| \b\b/ \b\b- \b\b\\ \b\b| \b\b/ \b\b- \b\b\\ \b\b| \b\b/ \b\b- \b\b\\ \b\b| \b\b/ \b\b- \b\b\\ \b\b| \b\b/ \b\b- \b\b\\ \b\b| \b\b/ \b\b- \b\b\\ \b\b| \b\b/ \b\b- \b\b\\ \b\b| \b\b/ \b\b- \b\b\\ \b\b| \b\b/ \b\b- \b\b\\ \b\b| \b\b/ \b\b- \b\b\\ \b\b| \b\b/ \b\b- \b\b\\ \b\b| \b\b/ \b\b- \b\b\\ \b\b| \b\b/ \b\b- \b\b\\ \b\b| \b\b/ \b\b- \b\b\\ \b\b| \b\b/ \b\b- \b\b\\ \b\b| \b\b/ \b\b- \b\b\\ \b\b| \b\b/ \b\b- \b\b\\ \b\b| \b\b/ \b\b- \b\b\\ \b\b| \b\b/ \b\b- \b\b\\ \b\b| \b\b/ \b\b- \b\b\\ \b\b| \b\b/ \b\b- \b\b\\ \b\b| \b\b/ \b\b- \b\b\\ \b\b| \b\b/ \b\b- \b\b\\ \b\b| \b\b/ \b\b- \b\b\\ \b\b| \b\b/ \b\b- \b\b\\ \b\b| \b\b/ \b\b- \b\b\\ \b\b| \b\b/ \b\b- \b\b\\ \b\b| \b\b/ \b\b- \b\b\\ \b\b| \b\b/ \b\b- \b\b\\ \b\b| \b\b/ \b\b- \b\b\\ \b\b| \b\b/ \b\b- \b\b\\ \b\b| \b\b/ \b\b- \b\b\\ \b\b| \b\b/ \b\b- \b\b\\ \b\b| \b\b/ \b\b- \b\b\\ \b\b| \b\b/ \b\b- \b\b\\ \b\b| \b\b/ \b\b- \b\b\\ \b\b| \b\b/ \b\b- \b\b\\ \b\b| \b\b/ \b\b- \b\b\\ \b\b| \b\b/ \b\b- \b\b\\ \b\b| \b\b/ \b\b- \b\b\\ \b\b| \b\b/ \b\b- \b\b\\ \b\b| \b\b/ \b\b- \b\b\\ \b\b| \b\b/ \b\b- \b\b\\ \b\b| \b\b/ \b\b- \b\b\\ \b\b| \b\b/ \b\b- \b\b\\ \b\b| \b\b/ \b\b- \b\b\\ \b\b| \b\b/ \b\b- \b\b\\ \b\b| \b\b/ \b\b- \b\b\\ \b\b| \b\b/ \b\b- \b\b\\ \b\b| \b\b/ \b\b- \b\b\\ \b\b| \b\b/ \b\b- \b\b\\ \b\b| \b\b/ \b\b- \b\b\\ \b\b| \b\b/ \b\b- \b\b\\ \b\b| \b\b/ \b\b- \b\b\\ \b\b| \b\b/ \b\b- \b\b\\ \b\b| \b\b/ \b\b- \b\b\\ \b\b| \b\b/ \b\b- \b\b\\ \b\b| \b\b/ \b\b- \b\b\\ \b\b| \b\b/ \b\b- \b\b\\ \b\b| \b\b/ \b\b- \b\b\\ \b\b| \b\b/ \b\b- \b\b\\ \b\b| \b\b/ \b\b- \b\b\\ \b\b| \b\b/ \b\b- \b\b\\ \b\b| \b\b/ \b\b- \b\b\\ \b\b| \b\b/ \b\b- \b\b\\ \b\b| \b\b/ \b\b- \b\b\\ \b\b| \b\b/ \b\b- \b\b\\ \b\b| \b\b/ \b\b- \b\b\\ \b\b| \b\b/ \b\b- \b\b\\ \b\b| \b\b/ \b\b- \b\b\\ \b\b| \b\b/ \b\b- \b\b\\ \b\b| \b\b/ \b\b- \b\b\\ \b\b| \b\b/ \b\b- \b\b\\ \b\b| \b\b/ \b\b- \b\b\\ \b\b| \b\b/ \b\b- \b\b\\ \b\b| \b\b/ \b\b- \b\b\\ \b\b| \b\b/ \b\b- \b\b\\ \b\b| \b\b/ \b\b- \b\b\\ \b\b| \b\b/ \b\b- \b\b\\ \b\b| \b\b/ \b\b- \b\b\\ \b\b| \b\b/ \b\b- \b\b\\ \b\b| \b\b/ \b\b- \b\b\\ \b\b| \b\b/ \b\b- \b\b\\ \b\b| \b\b/ \b\b- \b\b\\ \b\b| \b\b/ \b\b- \b\b\\ \b\b| \b\b/ \b\b- \b\b\\ \b\b| \b\b/ \b\b- \b\b\\ \b\b| \b\b/ \b\b- \b\b\\ \b\b| \b\b/ \b\b- \b\b\\ \b\b| \b\b/ \b\b- \b\b\\ \b\b| \b\b/ \b\b- \b\b\\ \b\b| \b\b/ \b\b- \b\b\\ \b\b| \b\b/ \b\b- \b\b\\ \b\b| \b\b/ \b\b- \b\b\\ \b\b| \b\b/ \b\b- \b\b\\ \b\b| \b\b/ \b\b- \b\b\\ \b\b| \b\b/ \b\b- \b\b\\ \b\b| \b\b/ \b\b- \b\b\\ \b\b| \b\b/ \b\b- \b\b\\ \b\b| \b\b/ \b\b- \b\b\\ \b\b| \b\b/ \b\b- \b\b\\ \b\b| \b\b/ \b\b- \b\b\\ \b\b| \b\b/ \b\b- \b\b\\ \b\b| \b\b/ \b\b- \b\b\\ \b\b| \b\b/ \b\b- \b\b\\ \b\b| \b\b/ \b\b- \b\b\\ \b\b| \b\b/ \b\b- \b\b\\ \b\b| \b\b/ \b\b- \b\b\\ \b\b| \b\b/ \b\b- \b\b\\ \b\b| \b\b/ \b\b- \b\b\\ \b\b| \b\b/ \b\b- \b\b\\ \b\b| \b\b/ \b\b- \b\b\\ \b\b| \b\b/ \b\b- \b\b\\ \b\b| \b\b/ \b\b- \b\b\\ \b\b| \b\b/ \b\b- \b\b\\ \b\b| \b\b/ \b\b- \b\b\\ \b\b| \b\b/ \b\b- \b\b\\ \b\b| \b\b/ \b\b- \b\b\\ \b\b| \b\b/ \b\b- \b\b\\ \b\b| \b\b/ \b\b- \b\b\\ \b\b| \b\b/ \b\b- \b\b\\ \b\b| \b\b/ \b\b- \b\b\\ \b\b| \b\b/ \b\b- \b\b\\ \b\b| \b\b/ \b\b- \b\b\\ \b\b| \b\b/ \b\b- \b\b\\ \b\b| \b\b/ \b\b- \b\b\\ \b\b| \b\b/ \b\b- \b\b\\ \b\b| \b\b/ \b\b- \b\b\\ \b\b| \b\b/ \b\b- \b\b\\ \b\b| \b\b/ \b\b- \b\b\\ \b\b| \b\b/ \b\b- \b\b\\ \b\b| \b\b/ \b\b- \b\b\\ \b\b| \b\b/ \b\b- \b\b\\ \b\b| \b\b/ \b\b- \b\b\\ \b\b| \b\b/ \b\b- \b\b\\ \b\b| \b\b/ \b\b- \b\b\\ \b\b| \b\b/ \b\b- \b\b\\ \b\b| \b\b/ \b\b- \b\b\\ \b\b| \b\b/ \b\b- \b\b\\ \b\b| \b\b/ \b\b- \b\b\\ \b\b| \b\b/ \b\b- \b\b\\ \b\b| \b\b/ \b\b- \b\b\\ \b\b| \b\b/ \b\b- \b\b\\ \b\b| \b\b/ \b\b- \b\b\\ \b\b| \b\b/ \b\b- \b\b\\ \b\b| \b\b/ \b\b- \b\b\\ \b\b| \b\b/ \b\b- \b\b\\ \b\b| \b\b/ \b\b- \b\b\\ \b\b| \b\b/ \b\b- \b\b\\ \b\b| \b\b/ \b\b- \b\b\\ \b\b| \b\b/ \b\b- \b\b\\ \b\b| \b\b/ \b\b- \b\b\\ \b\b| \b\b/ \b\b- \b\b\\ \b\b| \b\b/ \b\b- \b\b\\ \b\b| \b\b/ \b\b- \b\b\\ \b\b| \b\b/ \b\b- \b\b\\ \b\b| \b\b/ \b\b- \b\b\\ \b\b| \b\b/ \b\b- \b\b\\ \b\b| \b\b/ \b\b- \b\b\\ \b\b| \b\b/ \b\b- \b\b\\ \b\b| \b\b/ \b\b- \b\b\\ \b\b| \b\b/ \b\b- \b\b\\ \b\b| \b\b/ \b\b- \b\b\\ \b\b| \b\b/ Ran pip subprocess with arguments:\n",
            "['/usr/local/envs/DLEB/bin/python', '-m', 'pip', 'install', '-U', '-r', '/content/condaenv.ln8uq16l.requirements.txt']\n",
            "Pip subprocess output:\n",
            "Looking in indexes: https://pypi.org/simple, https://us-python.pkg.dev/colab-wheels/public/simple/\n",
            "Collecting absl-py==1.0.0\n",
            "  Downloading absl_py-1.0.0-py3-none-any.whl (126 kB)\n",
            "Collecting astunparse==1.6.3\n",
            "  Downloading astunparse-1.6.3-py2.py3-none-any.whl (12 kB)\n",
            "Collecting biopython==1.77\n",
            "  Downloading biopython-1.77-cp36-cp36m-manylinux1_x86_64.whl (2.3 MB)\n",
            "Collecting cachetools==4.2.4\n",
            "  Downloading cachetools-4.2.4-py3-none-any.whl (10 kB)\n",
            "Collecting charset-normalizer==2.0.12\n",
            "  Downloading charset_normalizer-2.0.12-py3-none-any.whl (39 kB)\n",
            "Collecting cycler==0.11.0\n",
            "  Downloading cycler-0.11.0-py3-none-any.whl (6.4 kB)\n",
            "Collecting dataclasses==0.8\n",
            "  Downloading dataclasses-0.8-py3-none-any.whl (19 kB)\n",
            "Collecting gast==0.3.3\n",
            "  Using cached gast-0.3.3-py2.py3-none-any.whl (9.7 kB)\n",
            "Collecting google-auth==1.35.0\n",
            "  Downloading google_auth-1.35.0-py2.py3-none-any.whl (152 kB)\n",
            "Collecting google-auth-oauthlib==0.4.6\n",
            "  Downloading google_auth_oauthlib-0.4.6-py2.py3-none-any.whl (18 kB)\n",
            "Collecting google-pasta==0.2.0\n",
            "  Downloading google_pasta-0.2.0-py3-none-any.whl (57 kB)\n",
            "Collecting grpcio==1.44.0\n",
            "  Downloading grpcio-1.44.0-cp36-cp36m-manylinux_2_17_x86_64.manylinux2014_x86_64.whl (4.3 MB)\n",
            "Collecting h5py==2.10.0\n",
            "  Downloading h5py-2.10.0-cp36-cp36m-manylinux1_x86_64.whl (2.9 MB)\n",
            "Collecting idna==3.3\n",
            "  Downloading idna-3.3-py3-none-any.whl (61 kB)\n",
            "Collecting importlib-metadata==4.8.3\n",
            "  Downloading importlib_metadata-4.8.3-py3-none-any.whl (17 kB)\n",
            "Collecting janggu==0.10.2\n",
            "  Using cached janggu-0.10.2-py2.py3-none-any.whl (1.3 MB)\n",
            "Collecting joblib==1.1.0\n",
            "  Downloading joblib-1.1.0-py2.py3-none-any.whl (306 kB)\n",
            "Collecting keras==2.4.3\n",
            "  Downloading Keras-2.4.3-py2.py3-none-any.whl (36 kB)\n",
            "Collecting keras-preprocessing==1.1.2\n",
            "  Downloading Keras_Preprocessing-1.1.2-py2.py3-none-any.whl (42 kB)\n",
            "Collecting kiwisolver==1.3.1\n",
            "  Downloading kiwisolver-1.3.1-cp36-cp36m-manylinux1_x86_64.whl (1.1 MB)\n",
            "Collecting markdown==3.3.6\n",
            "  Downloading Markdown-3.3.6-py3-none-any.whl (97 kB)\n",
            "Collecting matplotlib==3.3.4\n",
            "  Downloading matplotlib-3.3.4-cp36-cp36m-manylinux1_x86_64.whl (11.5 MB)\n",
            "Collecting numpy==1.19.5\n",
            "  Downloading numpy-1.19.5-cp36-cp36m-manylinux2010_x86_64.whl (14.8 MB)\n",
            "Collecting oauthlib==3.2.0\n",
            "  Downloading oauthlib-3.2.0-py3-none-any.whl (151 kB)\n",
            "Collecting opt-einsum==3.3.0\n",
            "  Downloading opt_einsum-3.3.0-py3-none-any.whl (65 kB)\n",
            "Collecting pandas==1.1.5\n",
            "  Downloading pandas-1.1.5-cp36-cp36m-manylinux1_x86_64.whl (9.5 MB)\n",
            "Collecting pillow==8.4.0\n",
            "  Downloading Pillow-8.4.0-cp36-cp36m-manylinux_2_17_x86_64.manylinux2014_x86_64.whl (3.1 MB)\n",
            "Collecting progress==1.6\n",
            "  Using cached progress-1.6.tar.gz (7.8 kB)\n",
            "Collecting protobuf==3.19.4\n",
            "  Downloading protobuf-3.19.4-cp36-cp36m-manylinux_2_17_x86_64.manylinux2014_x86_64.whl (1.1 MB)\n",
            "Collecting pyasn1==0.4.8\n",
            "  Downloading pyasn1-0.4.8-py2.py3-none-any.whl (77 kB)\n",
            "Collecting pyasn1-modules==0.2.8\n",
            "  Downloading pyasn1_modules-0.2.8-py2.py3-none-any.whl (155 kB)\n",
            "Collecting pybedtools==0.9.0\n",
            "  Using cached pybedtools-0.9.0.tar.gz (12.5 MB)\n",
            "Collecting pybigwig==0.3.18\n",
            "  Using cached pyBigWig-0.3.18.tar.gz (64 kB)\n",
            "Collecting pydot==1.4.2\n",
            "  Downloading pydot-1.4.2-py2.py3-none-any.whl (21 kB)\n",
            "Collecting pyparsing==3.0.7\n",
            "  Downloading pyparsing-3.0.7-py3-none-any.whl (98 kB)\n",
            "Collecting pysam==0.15.4\n",
            "  Downloading pysam-0.15.4-cp36-cp36m-manylinux2010_x86_64.whl (10.7 MB)\n",
            "Collecting python-dateutil==2.8.2\n",
            "  Downloading python_dateutil-2.8.2-py2.py3-none-any.whl (247 kB)\n",
            "Collecting pytz==2021.3\n",
            "  Downloading pytz-2021.3-py2.py3-none-any.whl (503 kB)\n",
            "Collecting pyyaml==6.0\n",
            "  Downloading PyYAML-6.0-cp36-cp36m-manylinux_2_5_x86_64.manylinux1_x86_64.manylinux_2_12_x86_64.manylinux2010_x86_64.whl (603 kB)\n",
            "Collecting requests==2.27.1\n",
            "  Downloading requests-2.27.1-py2.py3-none-any.whl (63 kB)\n",
            "Collecting requests-oauthlib==1.3.1\n",
            "  Downloading requests_oauthlib-1.3.1-py2.py3-none-any.whl (23 kB)\n",
            "Collecting rsa==4.8\n",
            "  Downloading rsa-4.8-py3-none-any.whl (39 kB)\n",
            "Collecting scikit-learn==0.24.2\n",
            "  Downloading scikit_learn-0.24.2-cp36-cp36m-manylinux2010_x86_64.whl (22.2 MB)\n",
            "Collecting scipy==1.4.1\n",
            "  Downloading scipy-1.4.1-cp36-cp36m-manylinux1_x86_64.whl (26.1 MB)\n",
            "Collecting seaborn==0.11.2\n",
            "  Downloading seaborn-0.11.2-py3-none-any.whl (292 kB)\n",
            "Collecting six==1.16.0\n",
            "  Downloading six-1.16.0-py2.py3-none-any.whl (11 kB)\n",
            "Collecting tensorboard==2.2.2\n",
            "  Using cached tensorboard-2.2.2-py3-none-any.whl (3.0 MB)\n",
            "Collecting tensorboard-plugin-wit==1.8.1\n",
            "  Downloading tensorboard_plugin_wit-1.8.1-py3-none-any.whl (781 kB)\n",
            "Collecting tensorflow==2.2.0\n",
            "  Downloading tensorflow-2.2.0-cp36-cp36m-manylinux2010_x86_64.whl (516.2 MB)\n",
            "Collecting tensorflow-estimator==2.2.0\n",
            "  Using cached tensorflow_estimator-2.2.0-py2.py3-none-any.whl (454 kB)\n",
            "Collecting termcolor==1.1.0\n",
            "  Downloading termcolor-1.1.0.tar.gz (3.9 kB)\n",
            "Collecting threadpoolctl==3.1.0\n",
            "  Downloading threadpoolctl-3.1.0-py3-none-any.whl (14 kB)\n",
            "Collecting typing-extensions==4.1.1\n",
            "  Downloading typing_extensions-4.1.1-py3-none-any.whl (26 kB)\n",
            "Collecting urllib3==1.26.8\n",
            "  Downloading urllib3-1.26.8-py2.py3-none-any.whl (138 kB)\n",
            "Collecting werkzeug==2.0.3\n",
            "  Downloading Werkzeug-2.0.3-py3-none-any.whl (289 kB)\n",
            "Collecting wrapt==1.14.0\n",
            "  Downloading wrapt-1.14.0-cp36-cp36m-manylinux_2_5_x86_64.manylinux1_x86_64.manylinux_2_17_x86_64.manylinux2014_x86_64.whl (74 kB)\n",
            "Collecting zipp==3.6.0\n",
            "  Downloading zipp-3.6.0-py3-none-any.whl (5.3 kB)\n",
            "Requirement already satisfied: wheel<1.0,>=0.23.0 in /usr/local/envs/DLEB/lib/python3.6/site-packages (from astunparse==1.6.3->-r /content/condaenv.ln8uq16l.requirements.txt (line 2)) (0.37.1)\n",
            "Requirement already satisfied: setuptools>=40.3.0 in /usr/local/envs/DLEB/lib/python3.6/site-packages (from google-auth==1.35.0->-r /content/condaenv.ln8uq16l.requirements.txt (line 9)) (58.0.4)\n",
            "Requirement already satisfied: certifi>=2017.4.17 in /usr/local/envs/DLEB/lib/python3.6/site-packages (from requests==2.27.1->-r /content/condaenv.ln8uq16l.requirements.txt (line 40)) (2020.6.20)\n",
            "Building wheels for collected packages: progress, pybedtools, pybigwig, termcolor\n",
            "  Building wheel for progress (setup.py): started\n",
            "  Building wheel for progress (setup.py): finished with status 'done'\n",
            "  Created wheel for progress: filename=progress-1.6-py3-none-any.whl size=9632 sha256=0fc8108fa5466aac512f80d5ada8603d1d5521d9cf2266e36354f94f9f54149e\n",
            "  Stored in directory: /root/.cache/pip/wheels/9f/92/2c/aa26d18b6a4d7df29d2cf1e1ff0bcf124a58fc10118485b160\n",
            "  Building wheel for pybedtools (setup.py): started\n",
            "  Building wheel for pybedtools (setup.py): finished with status 'done'\n",
            "  Created wheel for pybedtools: filename=pybedtools-0.9.0-cp36-cp36m-linux_x86_64.whl size=13653007 sha256=6a99336a9a9c7e7646735007fa9b3e3feabb6e8d397b16ebdbb8f02985b60a72\n",
            "  Stored in directory: /root/.cache/pip/wheels/ce/15/57/09a084714fcb312a5704ced7f73c3973120a7917f4ddcae63e\n",
            "  Building wheel for pybigwig (setup.py): started\n",
            "  Building wheel for pybigwig (setup.py): finished with status 'done'\n",
            "  Created wheel for pybigwig: filename=pyBigWig-0.3.18-cp36-cp36m-linux_x86_64.whl size=147754 sha256=92228ac71bcdb067a656a16c479c322355c352fc5bd8999ff6b700ed2328c727\n",
            "  Stored in directory: /root/.cache/pip/wheels/bb/38/d1/0e10a0a9f5356654aa66d3ffb06974ee5de7819dee9177520f\n",
            "  Building wheel for termcolor (setup.py): started\n",
            "  Building wheel for termcolor (setup.py): finished with status 'done'\n",
            "  Created wheel for termcolor: filename=termcolor-1.1.0-py3-none-any.whl size=4848 sha256=e56760692c7e849de42fbcdd42582e15f54a9af2a7dc45fee1c40cf33409354b\n",
            "  Stored in directory: /root/.cache/pip/wheels/93/2a/eb/e58dbcbc963549ee4f065ff80a59f274cc7210b6eab962acdc\n",
            "Successfully built progress pybedtools pybigwig termcolor\n",
            "Installing collected packages: urllib3, pyasn1, idna, charset-normalizer, zipp, typing-extensions, six, rsa, requests, pyasn1-modules, oauthlib, cachetools, requests-oauthlib, pytz, python-dateutil, pyparsing, pillow, numpy, kiwisolver, importlib-metadata, google-auth, dataclasses, cycler, werkzeug, threadpoolctl, tensorboard-plugin-wit, scipy, pysam, protobuf, pandas, matplotlib, markdown, joblib, grpcio, google-auth-oauthlib, absl-py, wrapt, termcolor, tensorflow-estimator, tensorboard, seaborn, scikit-learn, pyyaml, pydot, pybigwig, pybedtools, progress, opt-einsum, keras-preprocessing, h5py, google-pasta, gast, biopython, astunparse, tensorflow, keras, janggu\n",
            "Successfully installed absl-py-1.0.0 astunparse-1.6.3 biopython-1.77 cachetools-4.2.4 charset-normalizer-2.0.12 cycler-0.11.0 dataclasses-0.8 gast-0.3.3 google-auth-1.35.0 google-auth-oauthlib-0.4.6 google-pasta-0.2.0 grpcio-1.44.0 h5py-2.10.0 idna-3.3 importlib-metadata-4.8.3 janggu-0.10.2 joblib-1.1.0 keras-2.4.3 keras-preprocessing-1.1.2 kiwisolver-1.3.1 markdown-3.3.6 matplotlib-3.3.4 numpy-1.19.5 oauthlib-3.2.0 opt-einsum-3.3.0 pandas-1.1.5 pillow-8.4.0 progress-1.6 protobuf-3.19.4 pyasn1-0.4.8 pyasn1-modules-0.2.8 pybedtools-0.9.0 pybigwig-0.3.18 pydot-1.4.2 pyparsing-3.0.7 pysam-0.15.4 python-dateutil-2.8.2 pytz-2021.3 pyyaml-6.0 requests-2.27.1 requests-oauthlib-1.3.1 rsa-4.8 scikit-learn-0.24.2 scipy-1.4.1 seaborn-0.11.2 six-1.16.0 tensorboard-2.2.2 tensorboard-plugin-wit-1.8.1 tensorflow-2.2.0 tensorflow-estimator-2.2.0 termcolor-1.1.0 threadpoolctl-3.1.0 typing-extensions-4.1.1 urllib3-1.26.8 werkzeug-2.0.3 wrapt-1.14.0 zipp-3.6.0\n",
            "\n",
            "\b\bdone\n",
            "#\n",
            "# To activate this environment, use\n",
            "#\n",
            "#     $ conda activate DLEB\n",
            "#\n",
            "# To deactivate an active environment, use\n",
            "#\n",
            "#     $ conda deactivate\n",
            "\n"
          ]
        }
      ],
      "source": [
        "!conda env create -n DLEB -f ./environment.yml\n",
        "!source activate DLEB"
      ]
    },
    {
      "cell_type": "code",
      "execution_count": 33,
      "metadata": {
        "id": "p3JRNbYyBcnh"
      },
      "outputs": [],
      "source": [
        "import sys\n",
        "import os\n",
        "import json\n",
        "import numpy as np\n",
        "import tensorflow as tf\n",
        "from tensorflow.python.client import device_lib\n",
        "from tensorflow import keras\n",
        "from tensorflow.keras import layers\n",
        "from tensorflow.keras.models import Model\n",
        "from tensorflow.python.keras.callbacks import TensorBoard"
      ]
    },
    {
      "cell_type": "code",
      "execution_count": 34,
      "metadata": {
        "colab": {
          "base_uri": "https://localhost:8080/",
          "height": 516
        },
        "id": "4jEtVYoSBglG",
        "outputId": "7702cc0e-ad99-4254-80e6-af192c120c9f"
      },
      "outputs": [
        {
          "ename": "ImportError",
          "evalue": "ignored",
          "output_type": "error",
          "traceback": [
            "\u001b[0;31m---------------------------------------------------------------------------\u001b[0m",
            "\u001b[0;31mImportError\u001b[0m                               Traceback (most recent call last)",
            "\u001b[0;32m<ipython-input-34-4e3878c59905>\u001b[0m in \u001b[0;36m<module>\u001b[0;34m\u001b[0m\n\u001b[0;32m----> 1\u001b[0;31m \u001b[0;32mfrom\u001b[0m \u001b[0mkeras\u001b[0m\u001b[0;34m.\u001b[0m\u001b[0mlayers\u001b[0m \u001b[0;32mimport\u001b[0m \u001b[0mwrappers\u001b[0m\u001b[0;34m\u001b[0m\u001b[0;34m\u001b[0m\u001b[0m\n\u001b[0m\u001b[1;32m      2\u001b[0m \u001b[0;32mfrom\u001b[0m \u001b[0msrc\u001b[0m\u001b[0;34m.\u001b[0m\u001b[0mget_args\u001b[0m \u001b[0;32mimport\u001b[0m \u001b[0;34m*\u001b[0m\u001b[0;34m\u001b[0m\u001b[0;34m\u001b[0m\u001b[0m\n\u001b[1;32m      3\u001b[0m \u001b[0;32mfrom\u001b[0m \u001b[0msrc\u001b[0m\u001b[0;34m.\u001b[0m\u001b[0mpreproc_input\u001b[0m \u001b[0;32mimport\u001b[0m \u001b[0;34m*\u001b[0m\u001b[0;34m\u001b[0m\u001b[0;34m\u001b[0m\u001b[0m\n\u001b[1;32m      4\u001b[0m \u001b[0;32mfrom\u001b[0m \u001b[0msrc\u001b[0m\u001b[0;34m.\u001b[0m\u001b[0mcustom_layer\u001b[0m \u001b[0;32mimport\u001b[0m \u001b[0;34m*\u001b[0m\u001b[0;34m\u001b[0m\u001b[0;34m\u001b[0m\u001b[0m\n\u001b[1;32m      5\u001b[0m \u001b[0;32mfrom\u001b[0m \u001b[0msrc\u001b[0m\u001b[0;34m.\u001b[0m\u001b[0mprint_lyrs\u001b[0m \u001b[0;32mimport\u001b[0m \u001b[0;34m*\u001b[0m\u001b[0;34m\u001b[0m\u001b[0;34m\u001b[0m\u001b[0m\n",
            "\u001b[0;32m/usr/local/lib/python3.7/dist-packages/keras/layers/wrappers.py\u001b[0m in \u001b[0;36m<module>\u001b[0;34m\u001b[0m\n\u001b[1;32m      8\u001b[0m \u001b[0;32mimport\u001b[0m \u001b[0mcopy\u001b[0m\u001b[0;34m\u001b[0m\u001b[0;34m\u001b[0m\u001b[0m\n\u001b[1;32m      9\u001b[0m \u001b[0;32mfrom\u001b[0m \u001b[0;34m.\u001b[0m\u001b[0;34m.\u001b[0m\u001b[0mengine\u001b[0m\u001b[0;34m.\u001b[0m\u001b[0mbase_layer\u001b[0m \u001b[0;32mimport\u001b[0m \u001b[0mLayer\u001b[0m\u001b[0;34m\u001b[0m\u001b[0;34m\u001b[0m\u001b[0m\n\u001b[0;32m---> 10\u001b[0;31m \u001b[0;32mfrom\u001b[0m \u001b[0;34m.\u001b[0m\u001b[0;34m.\u001b[0m\u001b[0mengine\u001b[0m\u001b[0;34m.\u001b[0m\u001b[0mbase_layer\u001b[0m \u001b[0;32mimport\u001b[0m \u001b[0mdisable_tracking\u001b[0m\u001b[0;34m\u001b[0m\u001b[0;34m\u001b[0m\u001b[0m\n\u001b[0m\u001b[1;32m     11\u001b[0m \u001b[0;32mfrom\u001b[0m \u001b[0;34m.\u001b[0m\u001b[0;34m.\u001b[0m\u001b[0mengine\u001b[0m\u001b[0;34m.\u001b[0m\u001b[0mbase_layer\u001b[0m \u001b[0;32mimport\u001b[0m \u001b[0mInputSpec\u001b[0m\u001b[0;34m\u001b[0m\u001b[0;34m\u001b[0m\u001b[0m\n\u001b[1;32m     12\u001b[0m \u001b[0;32mfrom\u001b[0m \u001b[0;34m.\u001b[0m\u001b[0;34m.\u001b[0m\u001b[0mutils\u001b[0m\u001b[0;34m.\u001b[0m\u001b[0mgeneric_utils\u001b[0m \u001b[0;32mimport\u001b[0m \u001b[0mhas_arg\u001b[0m\u001b[0;34m\u001b[0m\u001b[0;34m\u001b[0m\u001b[0m\n",
            "\u001b[0;31mImportError\u001b[0m: cannot import name 'disable_tracking' from 'keras.engine.base_layer' (/usr/local/lib/python3.7/dist-packages/keras/engine/base_layer.py)",
            "",
            "\u001b[0;31m---------------------------------------------------------------------------\u001b[0;32m\nNOTE: If your import is failing due to a missing package, you can\nmanually install dependencies using either !pip or !apt.\n\nTo view examples of installing some common dependencies, click the\n\"Open Examples\" button below.\n\u001b[0;31m---------------------------------------------------------------------------\u001b[0m\n"
          ]
        }
      ],
      "source": [
        "from keras.layers import wrappers\n",
        "from src.get_args import *\n",
        "from src.preproc_input import *\n",
        "from src.custom_layer import *\n",
        "from src.print_lyrs import *"
      ]
    },
    {
      "cell_type": "code",
      "execution_count": 4,
      "metadata": {
        "colab": {
          "base_uri": "https://localhost:8080/"
        },
        "id": "KlwFqZ6vCo1z",
        "outputId": "f51471d3-4398-4b38-d294-49f51239f4e4"
      },
      "outputs": [
        {
          "name": "stdout",
          "output_type": "stream",
          "text": [
            "/content\n"
          ]
        }
      ],
      "source": [
        "import os\n",
        "print(os.getcwd())#显示当前路径\n",
        " \n",
        "#os.chdir('/media/gfq/dataset/museGAN/exp2_all/att_sw_bmusegan_loss_jazz')\n",
        "#print(os.getcwd())\n"
      ]
    },
    {
      "cell_type": "code",
      "execution_count": null,
      "metadata": {
        "id": "QIBK6VXxBkbd"
      },
      "outputs": [],
      "source": [
        "args = GetArgs()\n",
        "config_file = args.config\n",
        "outdir = args.outdir\n",
        "learning_rate = args.lr\n",
        "\n",
        "model_name = args.model_name\n",
        "model_format = args.model_format\n",
        "\n",
        "os.system('mkdir -p ' + outdir)\n",
        "os.system('mkdir -p ' + outdir + '/' + model_name)"
      ]
    },
    {
      "cell_type": "code",
      "execution_count": null,
      "metadata": {
        "id": "atYAmANGBna4"
      },
      "outputs": [],
      "source": [
        "print_lyrs = args.print_lyrs\n",
        "if print_lyrs:\n",
        "\tos.system('mkdir -p ' + outdir + '/intermediate_layers') \n",
        "\n",
        "config = open(config_file, 'r')\n",
        "config = json.load(config)\n",
        "\n",
        "\n",
        "gpu_num = len(tf.config.list_physical_devices('GPU'))"
      ]
    },
    {
      "cell_type": "code",
      "execution_count": null,
      "metadata": {
        "id": "8EK-XwwGBpZU"
      },
      "outputs": [],
      "source": [
        "def build_Model1():\n",
        "\t_input_1 = keras.Input((1, 1))\n",
        "\t_dense_1 = layers.Dense(1,\n",
        "\t\tuse_bias = True,\n",
        "\t\tkernel_initializer = 'RandomNormal',\n",
        "\t\tbias_initializer = keras.initializers.Constant(0),\n",
        "\t\tkernel_constraint = None,\n",
        "\t\tbias_constraint = None,\n",
        "\t\tkernel_regularizer = None,\n",
        "\t\tbias_regularizer = None,\n",
        "\t\tactivity_regularizer = None,\n",
        "\t\tname = 'lyr_dense_1')(_input_1)\n",
        "\t_dense_1 = layers.Activation('sigmoid')(_dense_1)\n",
        "\t_dense_2 = layers.Dense(1,\n",
        "\t\tuse_bias = True,\n",
        "\t\tkernel_initializer = 'RandomNormal',\n",
        "\t\tbias_initializer = keras.initializers.Constant(0),\n",
        "\t\tkernel_constraint = None,\n",
        "\t\tbias_constraint = None,\n",
        "\t\tkernel_regularizer = None,\n",
        "\t\tbias_regularizer = None,\n",
        "\t\tactivity_regularizer = None,\n",
        "\t\tname = 'lyr_dense_2')(_dense_1)\n",
        "\t_dense_2 = layers.Activation('sigmoid')(_dense_2)\n",
        "\t_dense_3 = layers.Dense(1,\n",
        "\t\tuse_bias = True,\n",
        "\t\tkernel_initializer = 'RandomNormal',\n",
        "\t\tbias_initializer = keras.initializers.Constant(0),\n",
        "\t\tkernel_constraint = None,\n",
        "\t\tbias_constraint = None,\n",
        "\t\tkernel_regularizer = None,\n",
        "\t\tbias_regularizer = None,\n",
        "\t\tactivity_regularizer = None,\n",
        "\t\tname = 'lyr_dense_3')(_dense_2)\n",
        "\t_dense_3 = layers.Activation('sigmoid')(_dense_3)\n",
        "\n",
        "\tmodel = keras.Model(inputs = [_input_1], outputs = [_dense_3], name = 'Model1')\n",
        "\treturn model\n",
        "\n",
        "Model1 = build_Model1()\n",
        "Model1.summary()"
      ]
    },
    {
      "cell_type": "code",
      "execution_count": null,
      "metadata": {
        "id": "czYRw60zBsZ2"
      },
      "outputs": [],
      "source": [
        "Models = { 'Model1' : Model1 }\n",
        "\n",
        "input_info = config['inputs']\n",
        "label_info = config['outputs']\n",
        "train_ratio, val_ratio, test_ratio = 0.5, 0.25, 0.25\n",
        "batchSize = 1\n",
        "_input_1_dataset = input_info['_input_1']['input_filepath']\n",
        "_input_1_dataset = TXT2INPUT(_input_1_dataset, outdir + '/_input_1', input_info['_input_1']['delimiter'])\n",
        "_output_1_label = label_info['_output_1']['label_filepath']\n",
        "_output_1_label = READ_LABEL(_input_1_dataset, 'txt', _output_1_label, label_info['_output_1']['label_type'], label_info['_output_1']['encoding'], outdir + '/_output_1')\n",
        "\n",
        "train_idx, val_idx, test_idx = SPLIT_DATA(_input_1_dataset.shape[0], train_ratio, val_ratio, test_ratio)\n",
        "\n",
        "Model1_optimizer = tf.keras.optimizers.RMSprop(learning_rate = learning_rate)"
      ]
    },
    {
      "cell_type": "code",
      "execution_count": null,
      "metadata": {
        "id": "od2EEYRABvJc"
      },
      "outputs": [],
      "source": [
        "minimum_delta = 0.001\n",
        "patience = 10\n",
        "def Model1_loss(label, prediction):\n",
        "\tloss = tf.keras.losses.BinaryCrossentropy()(label, prediction)\n",
        "\treturn loss\n",
        "\n",
        "def train_step(data1, label1):\n",
        "\twith tf.GradientTape() as Model1_tape:\n",
        "\t\t_input_1 = data1\n",
        "\n",
        "\t\tprediction1 = Model1(_input_1)\n",
        "\n",
        "\t\tmodel_inputs = { 'Model1' : [ _input_1 ] }\n",
        "\n",
        "\t\tModel1_lossval = Model1_loss(prediction1, label1)\n",
        "\n",
        "\tModel1_gradients = Model1_tape.gradient(Model1_lossval, Model1.trainable_variables)\n",
        "\tModel1_optimizer.apply_gradients(zip(Model1_gradients, Model1.trainable_variables))\n",
        "\n",
        "\treturn Model1_lossval, model_inputs\n",
        "\n",
        "def test_step(data1, label1):\n",
        "\t_input_1 = data1\n",
        "\n",
        "\tprediction1 = Model1(_input_1)\n",
        "\n",
        "\tModel1_lossval = Model1_loss(prediction1, label1)\n",
        "\n",
        "\treturn Model1_lossval\n",
        "\n",
        "def train(data1, label1, train_idx, val_idx, batchSize, epochs):\n",
        "\tdata1_train = tf.data.Dataset.from_tensor_slices(data1[train_idx]).batch(batchSize)\n",
        "\tlabel1_train = tf.data.Dataset.from_tensor_slices(label1[train_idx]).batch(batchSize)\n",
        "\n",
        "\tdata1_val = tf.data.Dataset.from_tensor_slices(data1[val_idx]).batch(batchSize)\n",
        "\tlabel1_val = tf.data.Dataset.from_tensor_slices(label1[val_idx]).batch(batchSize)\n",
        "\n",
        "\tfor epoch in range(epochs):\n",
        "\n",
        "\t\tModel1_trainloss, Model1_valloss = 0, 0\n",
        "\n",
        "\t\tfor x_batch1, y_batch1 in zip(data1_train, label1_train):\n",
        "\t\t\tModel1_trainloss, model_inputs = train_step(x_batch1, y_batch1)\n",
        "\t\t\tif print_lyrs:\n",
        "\t\t\t\tbatch_num = 1\n",
        "\t\t\t\tPrintLyrs(print_lyrs, Models, model_inputs, epoch+1, batch_num, outdir)\n",
        "\t\t\t\tbatch_num += 1\n",
        "\n",
        "\t\tfor x_batch1, y_batch1 in zip(data1_val, label1_val):\n",
        "\t\t\tModel1_valloss = test_step(x_batch1, y_batch1)\n",
        "\n",
        "\t\tif (epoch+1) % 10 == 0:\n",
        "\t\t\tprint('Epoch' + str(epoch+1))\n",
        "\t\t\tprint('Model1_trainloss: ' + str(Model1_trainloss))\n",
        "\t\t\tprint('Model1_valloss: ' + str(Model1_valloss))\n",
        "\n",
        "epochs = 100"
      ]
    },
    {
      "cell_type": "code",
      "execution_count": null,
      "metadata": {
        "id": "yvAFMoOGBy6b"
      },
      "outputs": [],
      "source": [
        "with tf.device('/gpu:0'):\n",
        "\ttrain(_input_1_dataset, _output_1_label, train_idx, val_idx, batchSize, epochs)\n",
        "\n",
        "data1_test = tf.data.Dataset.from_tensor_slices(_input_1_dataset[test_idx]).batch(batchSize)\n",
        "label1_test = tf.data.Dataset.from_tensor_slices(_output_1_label[test_idx]).batch(batchSize)\n",
        "\n",
        "for x_batch1, y_batch1 in zip(data1_test, label1_test):\n",
        "\tModel1_testloss = test_step(x_batch1, y_batch1)\n",
        "\tprint('Model1_testloss : ' + str(Model1_testloss))\n",
        "\n",
        "tf.saved_model.save(Model1, outdir + '/' + model_name + '/' + 'Model1')"
      ]
    }
  ],
  "metadata": {
    "colab": {
      "provenance": []
    },
    "kernelspec": {
      "display_name": "Python 3",
      "name": "python3"
    },
    "language_info": {
      "name": "python"
    }
  },
  "nbformat": 4,
  "nbformat_minor": 0
}
